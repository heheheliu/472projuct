{
 "cells": [
  {
   "cell_type": "code",
   "execution_count": 2,
   "id": "cdbb26b1",
   "metadata": {},
   "outputs": [
    {
     "name": "stdout",
     "output_type": "stream",
     "text": [
      "Collecting package metadata (current_repodata.json): ...working... done\n",
      "Solving environment: ...working... done\n",
      "\n",
      "# All requested packages already installed.\n",
      "\n",
      "\n",
      "Note: you may need to restart the kernel to use updated packages.\n"
     ]
    }
   ],
   "source": [
    "conda install -c conda-forge gensim"
   ]
  },
  {
   "cell_type": "code",
   "execution_count": 3,
   "id": "a33d46bb",
   "metadata": {},
   "outputs": [
    {
     "name": "stdout",
     "output_type": "stream",
     "text": [
      "Collecting package metadata (current_repodata.json): ...working... done\n",
      "Solving environment: ...working... done\n",
      "\n",
      "# All requested packages already installed.\n",
      "\n",
      "\n",
      "Note: you may need to restart the kernel to use updated packages.\n"
     ]
    }
   ],
   "source": [
    "conda update -n base -c defaults conda"
   ]
  },
  {
   "cell_type": "code",
   "execution_count": 4,
   "id": "e3aa9e1b",
   "metadata": {},
   "outputs": [
    {
     "name": "stdout",
     "output_type": "stream",
     "text": [
      "['fasttext-wiki-news-subwords-300', 'conceptnet-numberbatch-17-06-300', 'word2vec-ruscorpora-300', 'word2vec-google-news-300', 'glove-wiki-gigaword-50', 'glove-wiki-gigaword-100', 'glove-wiki-gigaword-200', 'glove-wiki-gigaword-300', 'glove-twitter-25', 'glove-twitter-50', 'glove-twitter-100', 'glove-twitter-200', '__testing_word2vec-matrix-synopsis']\n"
     ]
    },
    {
     "name": "stderr",
     "output_type": "stream",
     "text": [
      "C:\\Users\\15145\\anaconda3\\lib\\site-packages\\gensim\\similarities\\__init__.py:15: UserWarning: The gensim.similarities.levenshtein submodule is disabled, because the optional Levenshtein package <https://pypi.org/project/python-Levenshtein/> is unavailable. Install Levenhstein (e.g. `pip install python-Levenshtein`) to suppress this warning.\n",
      "  warnings.warn(msg)\n"
     ]
    }
   ],
   "source": [
    "import gensim.downloader\n",
    "#show all available models in gensim-data\n",
    "print(list(gensim.downloader.info()['models'].keys()))"
   ]
  },
  {
   "cell_type": "code",
   "execution_count": 5,
   "id": "91d57b5a",
   "metadata": {},
   "outputs": [
    {
     "name": "stdout",
     "output_type": "stream",
     "text": [
      "[==================================================] 100.0% 1662.8/1662.8MB downloaded\n"
     ]
    }
   ],
   "source": [
    "word_google=gensim.downloader.load('word2vec-google-news-300')"
   ]
  },
  {
   "cell_type": "code",
   "execution_count": 7,
   "id": "81745c23",
   "metadata": {},
   "outputs": [
    {
     "name": "stdout",
     "output_type": "stream",
     "text": [
      "[['question', 'answer', '0', '1', '2', '3'], ['enormously', 'tremendously', 'appropriately', 'uniquely', 'tremendously', 'decidedly'], ['provisions', 'stipulations', 'stipulations', 'interrelations', 'jurisdictions', 'interpretations'], ['haphazardly', 'randomly', 'dangerously', 'densely', 'randomly', 'linearly'], ['prominent', 'conspicuous', 'battered', 'ancient', 'mysterious', 'conspicuous'], ['zenith', 'pinnacle', 'completion', 'pinnacle', 'outset', 'decline'], ['flawed', 'imperfect', 'tiny', 'imperfect', 'lustrous', 'crude'], ['urgently', 'desperately', 'typically', 'conceivably', 'tentatively', 'desperately'], ['consumed', 'eaten', 'bred', 'caught', 'eaten', 'supplied'], ['advent', 'coming', 'coming', 'arrest', 'financing', 'stability'], ['concisely', 'succinctly', 'powerfully', 'positively', 'freely', 'succinctly'], ['salutes', 'greetings', 'information', 'ceremonies', 'greetings', 'privileges'], ['solitary', 'alone', 'alert', 'restless', 'alone', 'fearless'], ['hasten', 'accelerate', 'permit', 'determine', 'accelerate', 'accompany'], ['perseverance', 'endurance', 'endurance', 'skill', 'generosity', 'disturbance'], ['fanciful', 'imaginative', 'familiar', 'imaginative', 'apparent', 'logical'], ['showed', 'demonstrated', 'demonstrated', 'published', 'repeated', 'postponed'], ['constantly', 'continually', 'instantly', 'continually', 'rapidly', 'accidentally'], ['issues', 'subjects', 'training', 'salaries', 'subjects', 'benefits'], ['furnish', 'supply', 'supply', 'impress', 'protect', 'advise'], ['costly', 'expensive', 'expensive', 'beautiful', 'popular', 'complicated'], ['recognized', 'acknowledged', 'successful', 'depicted', 'acknowledged', 'welcomed'], ['spot', 'location', 'climate', 'latitude', 'sea', 'location'], ['make', 'earn', 'earn', 'print', 'trade', 'borrow'], ['often', 'frequently', 'definitely', 'frequently', 'chemically', 'hardly'], ['easygoing', 'relaxed', 'frontier', 'boring', 'farming', 'relaxed'], ['debate', 'argument', 'war', 'argument', 'election', 'competition'], ['narrow', 'thin', 'clear', 'freezing', 'thin', 'poisonous'], ['arranged', 'planned', 'planned', 'explained', 'studied', 'discarded'], ['infinite', 'limitless', 'limitless', 'relative', 'unusual', 'structural'], ['showy', 'striking', 'striking', 'prickly', 'entertaining', 'incidental'], ['levied', 'imposed', 'imposed', 'believed', 'requested', 'correlated'], ['deftly', 'skillfully', 'skillfully', 'prudently', 'occasionally', 'humorously'], ['distribute', 'circulate', 'commercialize', 'circulate', 'research', 'acknowledge'], ['discrepancies', 'differences', 'weights', 'deposits', 'wavelengths', 'differences'], ['prolific', 'productive', 'productive', 'serious', 'capable', 'promising'], ['unmatched', 'unequaled', 'unrecognized', 'unequaled', 'alienated', 'emulated'], ['peculiarly', 'uniquely', 'partly', 'uniquely', 'patriotically', 'suspiciously'], ['hue', 'color', 'glare', 'contrast', 'color', 'scent'], ['hind', 'rear', 'curved', 'muscular', 'hairy', 'rear'], ['highlight', 'accentuate', 'alter', 'imitate', 'accentuate', 'restore'], ['hastily', 'hurriedly', 'hurriedly', 'shrewdly', 'habitually', 'chronologically'], ['temperate', 'mild', 'cold', 'mild', 'short', 'windy'], ['grin', 'smile', 'exercise', 'rest', 'joke', 'smile'], ['verbally', 'orally', 'orally', 'overtly', 'fittingly', 'verbosely'], ['physician', 'doctor', 'chemist', 'pharmacist', 'nurse', 'doctor'], ['essentially', 'basically', 'possibly', 'eagerly', 'basically', 'ordinarily'], ['keen', 'sharp', 'useful', 'simple', 'famous', 'sharp'], ['situated', 'positioned', 'rotating', 'isolated', 'emptying', 'positioned'], ['principal', 'major', 'most', 'numerous', 'major', 'exceptional'], ['slowly', 'gradually', 'rarely', 'gradually', 'effectively', 'continuously'], ['built', 'constructed', 'constructed', 'proposed', 'financed', 'organized'], ['tasks', 'jobs', 'customers', 'materials', 'shops', 'jobs'], ['unlikely', 'improbable', 'improbable', 'disagreeable', 'different', 'unpopular'], ['halfheartedly', 'apathetically', 'customarily', 'bipartisanly', 'apathetically', 'unconventionally'], ['annals', 'chronicles', 'homes', 'trails', 'chronicles', 'songs'], ['wildly', 'furiously', 'distinctively', 'mysteriously', 'abruptly', 'furiously'], ['hailed', 'acclaimed', 'judged', 'acclaimed', 'remembered', 'addressed'], ['command', 'mastery', 'observation', 'love', 'awareness', 'mastery'], ['concocted', 'devised', 'devised', 'cleaned', 'requested', 'supervised'], ['prospective', 'potential', 'particular', 'prudent', 'potential', 'prominent'], ['generally', 'broadly', 'descriptively', 'broadly', 'controversially', 'accurately'], ['sustained', 'prolonged', 'prolonged', 'refined', 'lowered', 'analyzed'], ['perilous', 'dangerous', 'binding', 'exciting', 'offensive', 'dangerous'], ['tranquillity', 'peacefulness', 'peacefulness', 'harshness', 'weariness', 'happiness'], ['dissipate', 'disperse', 'disperse', 'isolate', 'disguise', 'photograph'], ['primarily', 'chiefly', 'occasionally', 'cautiously', 'consistently', 'chiefly'], ['colloquial', 'conversational', 'recorded', 'misunderstood', 'incorrect', 'conversational'], ['resolved', 'settled', 'publicized', 'forgotten', 'settled', 'examined'], ['feasible', 'possible', 'permitted', 'possible', 'equitable', 'evident'], ['expeditiously', 'rapidly', 'frequently', 'actually', 'rapidly', 'repeatedly'], ['percentage', 'proportion', 'volume', 'sample', 'proportion', 'profit'], ['terminated', 'ended', 'ended', 'posed', 'postponed', 'evaluated'], ['uniform', 'alike', 'hard', 'complex', 'alike', 'sharp'], ['figure', 'solve', 'list', 'solve', 'divide', 'express'], ['sufficient', 'enough', 'recent', 'physiological', 'enough', 'valuable'], ['fashion', 'manner', 'ration', 'fathom', 'craze', 'manner'], ['marketed', 'sold', 'frozen', 'sold', 'sweetened', 'diluted'], ['bigger', 'larger', 'steadier', 'closer', 'larger', 'better'], ['roots', 'origins', 'origins', 'rituals', 'cure', 'function'], ['normally', 'ordinarily', 'haltingly', 'ordinarily', 'permanently', 'periodically']]\n"
     ]
    }
   ],
   "source": [
    "import csv\n",
    "with open('synonyms.csv','r') as synonyms_file:\n",
    "    read=csv.reader(synonyms_file)\n",
    "    read_file=list(read)\n",
    "    print(read_file)"
   ]
  },
  {
   "cell_type": "code",
   "execution_count": 13,
   "id": "65196f8c",
   "metadata": {},
   "outputs": [],
   "source": [
    "from csv import reader\n",
    "\n",
    "analysis = []\n",
    "correct = 0\n",
    "guessed = 0\n",
    "with open(\"synonyms.csv\", \"r\") as f:\n",
    "    read = reader(f)\n",
    "    reader = list(read)\n",
    "    for i in range(1,len(reader)):\n",
    "        max_similarity = 0\n",
    "        guess = reader[i][2]\n",
    "        label = \"correct\"\n",
    "        if reader[i][0] in word_google and ( reader[i][2] in word_google or reader[i][3] in word_google or reader[i][4] in word_google or reader[i][5] in word_google):\n",
    "            label = \"correct\"\n",
    "            correct += 1\n",
    "        else:\n",
    "            label = \"guess\"\n",
    "            guessed += 1\n",
    "        for j in range(2,len(reader[i])):\n",
    "            try:\n",
    "                if max_similarity < word_google.similarity(reader[i][0], reader[i][j]):\n",
    "                    guess = reader[i][j]\n",
    "                    max_similarity = word_google.similarity(reader[i][0], reader[i][j])\n",
    "            except:\n",
    "                pass\n",
    "        if (label !=\"guess\" and guess != reader[i][1]):\n",
    "            label = \"wrong\"\n",
    "            correct -= 1\n",
    "        analysis.append([reader[i][0]+\",\"+reader[i][1]+\",\"+guess+\",\"+label])\n",
    "        \n",
    "with open(\"word2vec-google-news-300-details.csv\", 'w', newline='') as myfile:\n",
    "     wr = csv.writer(myfile)\n",
    "     wr.writerows(analysis)\n",
    "                                        "
   ]
  },
  {
   "cell_type": "code",
   "execution_count": 15,
   "id": "c9f73c66",
   "metadata": {},
   "outputs": [],
   "source": [
    "corpus=len(word_google)\n",
    "accuracy=correct/(80-guessed)\n",
    "total=80-guessed\n",
    "row=\"word2vec-google-news-300\"+\",\"+str(corpus)+\",\"+str(correct)+\",\"+str(total)+\",\"+str(accuracy)\n",
    "with open(\"analysis.csv\",'w',newline='') as analysisfile:\n",
    "    wr=csv.writer(analysisfile)\n",
    "    wr.writerows([[row]])"
   ]
  },
  {
   "cell_type": "code",
   "execution_count": null,
   "id": "852efb36",
   "metadata": {},
   "outputs": [],
   "source": []
  }
 ],
 "metadata": {
  "kernelspec": {
   "display_name": "Python 3",
   "language": "python",
   "name": "python3"
  },
  "language_info": {
   "codemirror_mode": {
    "name": "ipython",
    "version": 3
   },
   "file_extension": ".py",
   "mimetype": "text/x-python",
   "name": "python",
   "nbconvert_exporter": "python",
   "pygments_lexer": "ipython3",
   "version": "3.8.8"
  }
 },
 "nbformat": 4,
 "nbformat_minor": 5
}
