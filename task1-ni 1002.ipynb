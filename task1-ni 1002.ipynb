{
 "cells": [
  {
   "cell_type": "code",
   "execution_count": 1,
   "metadata": {},
   "outputs": [],
   "source": [
    "import numpy as np\n",
    "import pandas as pd\n",
    "import matplotlib.pyplot as plt\n",
    "import seaborn as sns\n",
    "import os\n",
    "from sklearn.datasets import load_files\n",
    "from sklearn.feature_extraction.text import CountVectorizer\n",
    "from sklearn.model_selection import train_test_split\n",
    "from sklearn.naive_bayes import MultinomialNB\n",
    "from sklearn.feature_extraction.text import TfidfTransformer\n",
    "\n",
    "#sns.set_style(\"darkgrid\")"
   ]
  },
  {
   "cell_type": "markdown",
   "metadata": {},
   "source": [
    "2 Plot distribution of the instances in each class and save the graphic in a file"
   ]
  },
  {
   "cell_type": "code",
   "execution_count": 2,
   "metadata": {},
   "outputs": [
    {
     "name": "stdout",
     "output_type": "stream",
     "text": [
      "5\n",
      "business\n"
     ]
    },
    {
     "data": {
      "text/plain": [
       "510"
      ]
     },
     "execution_count": 2,
     "metadata": {},
     "output_type": "execute_result"
    }
   ],
   "source": [
    "numOffolds = len(os.listdir('BBC'))\n",
    "print(numOffolds)\n",
    "all_folds = os.listdir('BBC')\n",
    "folder_path = all_folds[0]\n",
    "print(folder_path)\n",
    "\n",
    "len([x for x in os.listdir('BBC/'+folder_path)])\n"
   ]
  },
  {
   "cell_type": "code",
   "execution_count": 3,
   "metadata": {},
   "outputs": [
    {
     "name": "stdout",
     "output_type": "stream",
     "text": [
      "comput No.1 folder.\n",
      "No.1 has 510 files.\n",
      "comput No.2 folder.\n",
      "No.2 has 386 files.\n",
      "comput No.3 folder.\n",
      "No.3 has 417 files.\n",
      "comput No.4 folder.\n",
      "No.4 has 511 files.\n",
      "comput No.5 folder.\n",
      "No.5 has 401 files.\n"
     ]
    }
   ],
   "source": [
    "data_need = []\n",
    "data_x = []\n",
    "data_y = []\n",
    "\n",
    "\n",
    "path = 'BBC/'\n",
    "all_folds = os.listdir(path)\n",
    "\n",
    "for i in range (len(all_folds)):\n",
    "    data_x.append(all_folds[i])\n",
    "    print(f'comput No.{i+1} folder.')\n",
    "    folder_path = all_folds[i]\n",
    "    NumOfFiles = len([x for x in os.listdir(path + folder_path)])\n",
    "    data_y.append(NumOfFiles)\n",
    "    print(f'No.{i+1} has {NumOfFiles} files.')\n",
    "    table = pd.DataFrame({'folder_id': all_folds[i],'file_num':[NumOfFiles]})\n",
    "    data_need.append(table)\n",
    "\n",
    "        "
   ]
  },
  {
   "cell_type": "code",
   "execution_count": 4,
   "metadata": {},
   "outputs": [
    {
     "name": "stdout",
     "output_type": "stream",
     "text": [
      "       folder_id  file_num\n",
      "0       business       510\n",
      "0  entertainment       386\n",
      "0       politics       417\n",
      "0          sport       511\n",
      "0           tech       401\n"
     ]
    }
   ],
   "source": [
    "data_final = pd.concat(data_need, axis=0)\n",
    "print(data_final)"
   ]
  },
  {
   "cell_type": "code",
   "execution_count": 5,
   "metadata": {},
   "outputs": [
    {
     "name": "stdout",
     "output_type": "stream",
     "text": [
      "['business' 'entertainment' 'politics' 'sport' 'tech']\n",
      "[510 386 417 511 401]\n"
     ]
    },
    {
     "data": {
      "image/png": "[encoded data removed]",
      "text/plain": [
       "<Figure size 432x288 with 1 Axes>"
      ]
     },
     "metadata": {
      "needs_background": "light"
     },
     "output_type": "display_data"
    }
   ],
   "source": [
    "x_np = np.array(data_x)\n",
    "print(x_np)\n",
    "y_np = np.array(data_y)\n",
    "print(y_np)\n",
    "plt.title(\"Distribution of the instances in each class\")\n",
    "plt.xlabel(\"class name\")\n",
    "plt.ylabel(\"number of instances\")\n",
    "plt.bar(x_np,y_np)\n",
    "plt.savefig('BBC-Distribution.pdf')\n",
    "plt.show()"
   ]
  },
  {
   "cell_type": "code",
   "execution_count": 6,
   "metadata": {},
   "outputs": [
    {
     "name": "stdout",
     "output_type": "stream",
     "text": [
      "[0 4 2 ... 1 1 3]\n",
      "['business', 'entertainment', 'politics', 'sport', 'tech']\n"
     ]
    }
   ],
   "source": [
    "# use load_files to read the file structure and assign the category name to each file\n",
    "corpus_data = load_files(\"BBC\",encoding=\"latin1\")\n",
    "corpus_data_data = corpus_data.data\n",
    "# print(corpus_data_data)\n",
    "corpus_category = corpus_data.target\n",
    "print(corpus_category)\n",
    "corpus_category_names = corpus_data.target_names\n",
    "print(corpus_category_names)\n",
    "\n",
    "\n",
    " \n"
   ]
  },
  {
   "cell_type": "code",
   "execution_count": 7,
   "metadata": {},
   "outputs": [
    {
     "name": "stdout",
     "output_type": "stream",
     "text": [
      "[0 4 2 ... 1 1 3]\n",
      "['business', 'entertainment', 'politics', 'sport', 'tech']\n",
      "['BBC\\\\business\\\\385.txt' 'BBC\\\\tech\\\\160.txt' 'BBC\\\\politics\\\\090.txt'\n",
      " ... 'BBC\\\\entertainment\\\\254.txt' 'BBC\\\\entertainment\\\\326.txt'\n",
      " 'BBC\\\\sport\\\\341.txt']\n"
     ]
    }
   ],
   "source": [
    "print (corpus_category)\n",
    "print(corpus_category_names)\n",
    "print(corpus_data.filenames)"
   ]
  },
  {
   "cell_type": "markdown",
   "metadata": {},
   "source": [
    "4 Pre-process the dataset to have the features ready to be used"
   ]
  },
  {
   "cell_type": "code",
   "execution_count": 8,
   "metadata": {},
   "outputs": [
    {
     "name": "stdout",
     "output_type": "stream",
     "text": [
      "Vocabulary: \n",
      "{'one': 12, 'of': 11, 'the': 15, 'most': 9, 'basic': 1, 'ways': 18, 'we': 19, 'can': 3, 'numerically': 10, 'represent': 13, 'words': 20, 'is': 7, 'through': 16, 'hot': 6, 'encoding': 5, 'method': 8, 'also': 0, 'sometimes': 14, 'called': 2, 'count': 4, 'vectorizing': 17}\n"
     ]
    }
   ],
   "source": [
    "sample_text = [\"One of the most basic ways we can numerically represent words \"\n",
    "               \"is through the one-hot encoding method (also sometimes called \"\n",
    "               \"count vectorizing).\"]\n",
    "\n",
    "vectorizer = CountVectorizer()\n",
    "vectorizer.fit(sample_text)\n",
    "print('Vocabulary: ')\n",
    "print(vectorizer.vocabulary_)"
   ]
  },
  {
   "cell_type": "code",
   "execution_count": 10,
   "metadata": {},
   "outputs": [
    {
     "name": "stdout",
     "output_type": "stream",
     "text": [
      "  (0, 0)\t1\n",
      "  (0, 1)\t1\n",
      "  (0, 2)\t1\n",
      "  (0, 3)\t1\n",
      "  (0, 4)\t1\n",
      "  (0, 5)\t1\n",
      "  (0, 6)\t1\n",
      "  (0, 7)\t1\n",
      "  (0, 8)\t1\n",
      "  (0, 9)\t1\n",
      "  (0, 10)\t1\n",
      "  (0, 11)\t1\n",
      "  (0, 12)\t2\n",
      "  (0, 13)\t1\n",
      "  (0, 14)\t1\n",
      "  (0, 15)\t2\n",
      "  (0, 16)\t1\n",
      "  (0, 17)\t1\n",
      "  (0, 18)\t1\n",
      "  (0, 19)\t1\n",
      "  (0, 20)\t1\n"
     ]
    }
   ],
   "source": [
    "vector = vectorizer.transform(sample_text)\n",
    "print(vector)"
   ]
  },
  {
   "cell_type": "code",
   "execution_count": 11,
   "metadata": {},
   "outputs": [
    {
     "name": "stdout",
     "output_type": "stream",
     "text": [
      "[[1 1 1 1 1 1 1 1 1 1 1 1 2 1 1 2 1 1 1 1 1]]\n"
     ]
    }
   ],
   "source": [
    "print(vector.toarray())"
   ]
  },
  {
   "cell_type": "code",
   "execution_count": 12,
   "metadata": {},
   "outputs": [
    {
     "name": "stdout",
     "output_type": "stream",
     "text": [
      "29421\n",
      "(2225, 29421)\n",
      "836357\n"
     ]
    }
   ],
   "source": [
    "#create a Vectorizer Object\n",
    "vectorizer = CountVectorizer()\n",
    "#tokenize and build vocab\n",
    "vectorizer.fit(corpus_data_data)\n",
    "#summarize\n",
    "vocabulary_corpus = vectorizer.get_feature_names()\n",
    "#print(vocabulary_corpus)\n",
    "print(len(vectorizer.get_feature_names()))\n",
    "\n",
    "\n",
    "# Encode the dataset to document-term matrix\n",
    "vector = vectorizer.transform(corpus_data_data)\n",
    "print(vector.shape)\n",
    "print(vector.toarray().sum())#this sum for what to use?\n"
   ]
  },
  {
   "cell_type": "code",
   "execution_count": 13,
   "metadata": {},
   "outputs": [
    {
     "name": "stdout",
     "output_type": "stream",
     "text": [
      "Hot vector: \n",
      "[[0 0 0 ... 0 0 0]]\n",
      "Hot and one: \n",
      "[[0 0 0 ... 0 0 0]\n",
      " [0 0 0 ... 0 0 0]]\n",
      "[[1 1 1 1 2 1 3]]\n"
     ]
    }
   ],
   "source": [
    "print('Hot vector: ')\n",
    "print(vectorizer.transform(['hot']).toarray())\n",
    "print('Hot and one: ')\n",
    "print(vectorizer.transform(['hot', 'one']).toarray())\n",
    "new_text = ['Today is the day that I do the thing today, today']\n",
    "new_vectorizer = CountVectorizer()\n",
    "print(new_vectorizer.fit_transform(new_text).toarray())"
   ]
  },
  {
   "cell_type": "code",
   "execution_count": 14,
   "metadata": {},
   "outputs": [
    {
     "name": "stdout",
     "output_type": "stream",
     "text": [
      "['bird', 'cat', 'dog', 'fish']\n",
      "[[0 1 1 1]\n",
      " [0 2 1 0]\n",
      " [1 0 0 1]\n",
      " [1 0 0 0]]\n",
      "9\n"
     ]
    }
   ],
   "source": [
    "texts=[\"dog cat fish\",\"dog cat cat\",\"fish bird\", 'bird']\n",
    "cv = CountVectorizer()\n",
    "cv_fit=cv.fit_transform(texts)\n",
    "\n",
    "print(cv.get_feature_names())\n",
    "print(cv_fit.toarray())\n",
    "print(cv_fit.toarray().sum())"
   ]
  },
  {
   "cell_type": "markdown",
   "metadata": {},
   "source": [
    "5 Split the dataset int 80% for training 20% for testing"
   ]
  },
  {
   "cell_type": "code",
   "execution_count": 15,
   "metadata": {},
   "outputs": [],
   "source": [
    "# split the dataset into 80% for training and 20% for testing\n",
    "X = corpus_data_data\n",
    "y = corpus_category\n",
    "X_train, X_test, y_train, y_test = train_test_split(X, y, test_size=0.2, train_size=0.8, random_state= None)\n",
    "#print(X_train)\n",
    "#print(y_train)\n",
    "\n",
    "\n"
   ]
  },
  {
   "cell_type": "code",
   "execution_count": 17,
   "metadata": {},
   "outputs": [
    {
     "name": "stdout",
     "output_type": "stream",
     "text": [
      "26992\n"
     ]
    },
    {
     "data": {
      "text/html": [
       "<div>\n",
       "<style scoped>\n",
       "    .dataframe tbody tr th:only-of-type {\n",
       "        vertical-align: middle;\n",
       "    }\n",
       "\n",
       "    .dataframe tbody tr th {\n",
       "        vertical-align: top;\n",
       "    }\n",
       "\n",
       "    .dataframe thead tr th {\n",
       "        text-align: left;\n",
       "    }\n",
       "</style>\n",
       "<table border=\"1\" class=\"dataframe\">\n",
       "  <thead>\n",
       "    <tr>\n",
       "      <th></th>\n",
       "      <th>00</th>\n",
       "      <th>000</th>\n",
       "      <th>0001</th>\n",
       "      <th>000bn</th>\n",
       "      <th>000m</th>\n",
       "      <th>000th</th>\n",
       "      <th>001</th>\n",
       "      <th>001and</th>\n",
       "      <th>001st</th>\n",
       "      <th>004</th>\n",
       "      <th>...</th>\n",
       "      <th>zoom</th>\n",
       "      <th>zooms</th>\n",
       "      <th>zooropa</th>\n",
       "      <th>zornotza</th>\n",
       "      <th>zorro</th>\n",
       "      <th>zuluaga</th>\n",
       "      <th>zurich</th>\n",
       "      <th>zutons</th>\n",
       "      <th>zvonareva</th>\n",
       "      <th>zvyagintsev</th>\n",
       "    </tr>\n",
       "  </thead>\n",
       "  <tbody>\n",
       "    <tr>\n",
       "      <th>0</th>\n",
       "      <td>0</td>\n",
       "      <td>0</td>\n",
       "      <td>0</td>\n",
       "      <td>0</td>\n",
       "      <td>0</td>\n",
       "      <td>0</td>\n",
       "      <td>0</td>\n",
       "      <td>0</td>\n",
       "      <td>0</td>\n",
       "      <td>0</td>\n",
       "      <td>...</td>\n",
       "      <td>0</td>\n",
       "      <td>0</td>\n",
       "      <td>0</td>\n",
       "      <td>0</td>\n",
       "      <td>0</td>\n",
       "      <td>0</td>\n",
       "      <td>0</td>\n",
       "      <td>0</td>\n",
       "      <td>0</td>\n",
       "      <td>0</td>\n",
       "    </tr>\n",
       "    <tr>\n",
       "      <th>1</th>\n",
       "      <td>0</td>\n",
       "      <td>0</td>\n",
       "      <td>0</td>\n",
       "      <td>0</td>\n",
       "      <td>0</td>\n",
       "      <td>0</td>\n",
       "      <td>0</td>\n",
       "      <td>0</td>\n",
       "      <td>0</td>\n",
       "      <td>0</td>\n",
       "      <td>...</td>\n",
       "      <td>0</td>\n",
       "      <td>0</td>\n",
       "      <td>0</td>\n",
       "      <td>0</td>\n",
       "      <td>0</td>\n",
       "      <td>0</td>\n",
       "      <td>0</td>\n",
       "      <td>0</td>\n",
       "      <td>0</td>\n",
       "      <td>0</td>\n",
       "    </tr>\n",
       "    <tr>\n",
       "      <th>2</th>\n",
       "      <td>0</td>\n",
       "      <td>0</td>\n",
       "      <td>0</td>\n",
       "      <td>0</td>\n",
       "      <td>0</td>\n",
       "      <td>0</td>\n",
       "      <td>0</td>\n",
       "      <td>0</td>\n",
       "      <td>0</td>\n",
       "      <td>0</td>\n",
       "      <td>...</td>\n",
       "      <td>0</td>\n",
       "      <td>0</td>\n",
       "      <td>0</td>\n",
       "      <td>0</td>\n",
       "      <td>0</td>\n",
       "      <td>0</td>\n",
       "      <td>0</td>\n",
       "      <td>0</td>\n",
       "      <td>0</td>\n",
       "      <td>0</td>\n",
       "    </tr>\n",
       "    <tr>\n",
       "      <th>3</th>\n",
       "      <td>0</td>\n",
       "      <td>0</td>\n",
       "      <td>0</td>\n",
       "      <td>0</td>\n",
       "      <td>0</td>\n",
       "      <td>0</td>\n",
       "      <td>0</td>\n",
       "      <td>0</td>\n",
       "      <td>0</td>\n",
       "      <td>0</td>\n",
       "      <td>...</td>\n",
       "      <td>0</td>\n",
       "      <td>0</td>\n",
       "      <td>0</td>\n",
       "      <td>0</td>\n",
       "      <td>0</td>\n",
       "      <td>0</td>\n",
       "      <td>0</td>\n",
       "      <td>0</td>\n",
       "      <td>0</td>\n",
       "      <td>0</td>\n",
       "    </tr>\n",
       "    <tr>\n",
       "      <th>4</th>\n",
       "      <td>0</td>\n",
       "      <td>0</td>\n",
       "      <td>0</td>\n",
       "      <td>0</td>\n",
       "      <td>0</td>\n",
       "      <td>0</td>\n",
       "      <td>0</td>\n",
       "      <td>0</td>\n",
       "      <td>0</td>\n",
       "      <td>0</td>\n",
       "      <td>...</td>\n",
       "      <td>0</td>\n",
       "      <td>0</td>\n",
       "      <td>0</td>\n",
       "      <td>0</td>\n",
       "      <td>0</td>\n",
       "      <td>0</td>\n",
       "      <td>0</td>\n",
       "      <td>0</td>\n",
       "      <td>0</td>\n",
       "      <td>0</td>\n",
       "    </tr>\n",
       "    <tr>\n",
       "      <th>...</th>\n",
       "      <td>...</td>\n",
       "      <td>...</td>\n",
       "      <td>...</td>\n",
       "      <td>...</td>\n",
       "      <td>...</td>\n",
       "      <td>...</td>\n",
       "      <td>...</td>\n",
       "      <td>...</td>\n",
       "      <td>...</td>\n",
       "      <td>...</td>\n",
       "      <td>...</td>\n",
       "      <td>...</td>\n",
       "      <td>...</td>\n",
       "      <td>...</td>\n",
       "      <td>...</td>\n",
       "      <td>...</td>\n",
       "      <td>...</td>\n",
       "      <td>...</td>\n",
       "      <td>...</td>\n",
       "      <td>...</td>\n",
       "      <td>...</td>\n",
       "    </tr>\n",
       "    <tr>\n",
       "      <th>1775</th>\n",
       "      <td>0</td>\n",
       "      <td>0</td>\n",
       "      <td>0</td>\n",
       "      <td>0</td>\n",
       "      <td>0</td>\n",
       "      <td>0</td>\n",
       "      <td>0</td>\n",
       "      <td>0</td>\n",
       "      <td>0</td>\n",
       "      <td>0</td>\n",
       "      <td>...</td>\n",
       "      <td>0</td>\n",
       "      <td>0</td>\n",
       "      <td>0</td>\n",
       "      <td>0</td>\n",
       "      <td>0</td>\n",
       "      <td>0</td>\n",
       "      <td>0</td>\n",
       "      <td>0</td>\n",
       "      <td>0</td>\n",
       "      <td>0</td>\n",
       "    </tr>\n",
       "    <tr>\n",
       "      <th>1776</th>\n",
       "      <td>0</td>\n",
       "      <td>3</td>\n",
       "      <td>0</td>\n",
       "      <td>0</td>\n",
       "      <td>0</td>\n",
       "      <td>0</td>\n",
       "      <td>0</td>\n",
       "      <td>0</td>\n",
       "      <td>0</td>\n",
       "      <td>0</td>\n",
       "      <td>...</td>\n",
       "      <td>0</td>\n",
       "      <td>0</td>\n",
       "      <td>0</td>\n",
       "      <td>0</td>\n",
       "      <td>0</td>\n",
       "      <td>0</td>\n",
       "      <td>0</td>\n",
       "      <td>0</td>\n",
       "      <td>0</td>\n",
       "      <td>0</td>\n",
       "    </tr>\n",
       "    <tr>\n",
       "      <th>1777</th>\n",
       "      <td>0</td>\n",
       "      <td>0</td>\n",
       "      <td>0</td>\n",
       "      <td>0</td>\n",
       "      <td>0</td>\n",
       "      <td>0</td>\n",
       "      <td>0</td>\n",
       "      <td>0</td>\n",
       "      <td>0</td>\n",
       "      <td>0</td>\n",
       "      <td>...</td>\n",
       "      <td>0</td>\n",
       "      <td>0</td>\n",
       "      <td>0</td>\n",
       "      <td>0</td>\n",
       "      <td>0</td>\n",
       "      <td>0</td>\n",
       "      <td>0</td>\n",
       "      <td>0</td>\n",
       "      <td>0</td>\n",
       "      <td>0</td>\n",
       "    </tr>\n",
       "    <tr>\n",
       "      <th>1778</th>\n",
       "      <td>0</td>\n",
       "      <td>0</td>\n",
       "      <td>1</td>\n",
       "      <td>0</td>\n",
       "      <td>0</td>\n",
       "      <td>0</td>\n",
       "      <td>0</td>\n",
       "      <td>0</td>\n",
       "      <td>0</td>\n",
       "      <td>0</td>\n",
       "      <td>...</td>\n",
       "      <td>0</td>\n",
       "      <td>0</td>\n",
       "      <td>0</td>\n",
       "      <td>0</td>\n",
       "      <td>0</td>\n",
       "      <td>0</td>\n",
       "      <td>0</td>\n",
       "      <td>0</td>\n",
       "      <td>0</td>\n",
       "      <td>0</td>\n",
       "    </tr>\n",
       "    <tr>\n",
       "      <th>1779</th>\n",
       "      <td>0</td>\n",
       "      <td>0</td>\n",
       "      <td>0</td>\n",
       "      <td>0</td>\n",
       "      <td>0</td>\n",
       "      <td>0</td>\n",
       "      <td>0</td>\n",
       "      <td>0</td>\n",
       "      <td>0</td>\n",
       "      <td>0</td>\n",
       "      <td>...</td>\n",
       "      <td>0</td>\n",
       "      <td>0</td>\n",
       "      <td>0</td>\n",
       "      <td>0</td>\n",
       "      <td>0</td>\n",
       "      <td>0</td>\n",
       "      <td>0</td>\n",
       "      <td>0</td>\n",
       "      <td>0</td>\n",
       "      <td>0</td>\n",
       "    </tr>\n",
       "  </tbody>\n",
       "</table>\n",
       "<p>1780 rows × 26992 columns</p>\n",
       "</div>"
      ],
      "text/plain": [
       "     00 000 0001 000bn 000m 000th 001 001and 001st 004  ... zoom zooms  \\\n",
       "0     0   0    0     0    0     0   0      0     0   0  ...    0     0   \n",
       "1     0   0    0     0    0     0   0      0     0   0  ...    0     0   \n",
       "2     0   0    0     0    0     0   0      0     0   0  ...    0     0   \n",
       "3     0   0    0     0    0     0   0      0     0   0  ...    0     0   \n",
       "4     0   0    0     0    0     0   0      0     0   0  ...    0     0   \n",
       "...  ..  ..  ...   ...  ...   ...  ..    ...   ...  ..  ...  ...   ...   \n",
       "1775  0   0    0     0    0     0   0      0     0   0  ...    0     0   \n",
       "1776  0   3    0     0    0     0   0      0     0   0  ...    0     0   \n",
       "1777  0   0    0     0    0     0   0      0     0   0  ...    0     0   \n",
       "1778  0   0    1     0    0     0   0      0     0   0  ...    0     0   \n",
       "1779  0   0    0     0    0     0   0      0     0   0  ...    0     0   \n",
       "\n",
       "     zooropa zornotza zorro zuluaga zurich zutons zvonareva zvyagintsev  \n",
       "0          0        0     0       0      0      0         0           0  \n",
       "1          0        0     0       0      0      0         0           0  \n",
       "2          0        0     0       0      0      0         0           0  \n",
       "3          0        0     0       0      0      0         0           0  \n",
       "4          0        0     0       0      0      0         0           0  \n",
       "...      ...      ...   ...     ...    ...    ...       ...         ...  \n",
       "1775       0        0     0       0      0      0         0           0  \n",
       "1776       0        0     0       0      0      0         0           0  \n",
       "1777       0        0     0       0      0      0         0           0  \n",
       "1778       0        0     0       0      0      0         0           0  \n",
       "1779       0        0     0       0      0      0         0           0  \n",
       "\n",
       "[1780 rows x 26992 columns]"
      ]
     },
     "execution_count": 17,
     "metadata": {},
     "output_type": "execute_result"
    }
   ],
   "source": [
    "# countVectorizer\n",
    "vec = CountVectorizer()\n",
    "# fit the vectorizer on the training dataset\n",
    "vec.fit(X_train)\n",
    "print(len(vec.get_feature_names()))\n",
    "vocab = vec.get_feature_names()\n",
    "# print(vocab)\n",
    "X_train_transformed = vec.transform(X_train)\n",
    "# print(X_train_transformed)\n",
    "# convert training set to document-term matrix\n",
    "X_train_feat = X_train_transformed.toarray()\n",
    "# convert to sparse matrix for readability\n",
    "pd.DataFrame(X_train_feat,columns= [vec.get_feature_names()])\n",
    "\n"
   ]
  },
  {
   "cell_type": "code",
   "execution_count": 18,
   "metadata": {},
   "outputs": [
    {
     "data": {
      "text/html": [
       "<div>\n",
       "<style scoped>\n",
       "    .dataframe tbody tr th:only-of-type {\n",
       "        vertical-align: middle;\n",
       "    }\n",
       "\n",
       "    .dataframe tbody tr th {\n",
       "        vertical-align: top;\n",
       "    }\n",
       "\n",
       "    .dataframe thead tr th {\n",
       "        text-align: left;\n",
       "    }\n",
       "</style>\n",
       "<table border=\"1\" class=\"dataframe\">\n",
       "  <thead>\n",
       "    <tr>\n",
       "      <th></th>\n",
       "      <th>00</th>\n",
       "      <th>000</th>\n",
       "      <th>0001</th>\n",
       "      <th>000bn</th>\n",
       "      <th>000m</th>\n",
       "      <th>000th</th>\n",
       "      <th>001</th>\n",
       "      <th>001and</th>\n",
       "      <th>001st</th>\n",
       "      <th>004</th>\n",
       "      <th>...</th>\n",
       "      <th>zoom</th>\n",
       "      <th>zooms</th>\n",
       "      <th>zooropa</th>\n",
       "      <th>zornotza</th>\n",
       "      <th>zorro</th>\n",
       "      <th>zuluaga</th>\n",
       "      <th>zurich</th>\n",
       "      <th>zutons</th>\n",
       "      <th>zvonareva</th>\n",
       "      <th>zvyagintsev</th>\n",
       "    </tr>\n",
       "  </thead>\n",
       "  <tbody>\n",
       "    <tr>\n",
       "      <th>0</th>\n",
       "      <td>0</td>\n",
       "      <td>3</td>\n",
       "      <td>0</td>\n",
       "      <td>0</td>\n",
       "      <td>0</td>\n",
       "      <td>0</td>\n",
       "      <td>0</td>\n",
       "      <td>0</td>\n",
       "      <td>0</td>\n",
       "      <td>0</td>\n",
       "      <td>...</td>\n",
       "      <td>0</td>\n",
       "      <td>0</td>\n",
       "      <td>0</td>\n",
       "      <td>0</td>\n",
       "      <td>0</td>\n",
       "      <td>0</td>\n",
       "      <td>0</td>\n",
       "      <td>0</td>\n",
       "      <td>0</td>\n",
       "      <td>0</td>\n",
       "    </tr>\n",
       "    <tr>\n",
       "      <th>1</th>\n",
       "      <td>0</td>\n",
       "      <td>0</td>\n",
       "      <td>0</td>\n",
       "      <td>0</td>\n",
       "      <td>0</td>\n",
       "      <td>0</td>\n",
       "      <td>0</td>\n",
       "      <td>0</td>\n",
       "      <td>0</td>\n",
       "      <td>0</td>\n",
       "      <td>...</td>\n",
       "      <td>0</td>\n",
       "      <td>0</td>\n",
       "      <td>0</td>\n",
       "      <td>0</td>\n",
       "      <td>0</td>\n",
       "      <td>0</td>\n",
       "      <td>0</td>\n",
       "      <td>0</td>\n",
       "      <td>0</td>\n",
       "      <td>0</td>\n",
       "    </tr>\n",
       "    <tr>\n",
       "      <th>2</th>\n",
       "      <td>0</td>\n",
       "      <td>0</td>\n",
       "      <td>0</td>\n",
       "      <td>0</td>\n",
       "      <td>0</td>\n",
       "      <td>0</td>\n",
       "      <td>0</td>\n",
       "      <td>0</td>\n",
       "      <td>0</td>\n",
       "      <td>0</td>\n",
       "      <td>...</td>\n",
       "      <td>0</td>\n",
       "      <td>0</td>\n",
       "      <td>0</td>\n",
       "      <td>0</td>\n",
       "      <td>0</td>\n",
       "      <td>0</td>\n",
       "      <td>0</td>\n",
       "      <td>0</td>\n",
       "      <td>0</td>\n",
       "      <td>0</td>\n",
       "    </tr>\n",
       "    <tr>\n",
       "      <th>3</th>\n",
       "      <td>0</td>\n",
       "      <td>1</td>\n",
       "      <td>0</td>\n",
       "      <td>0</td>\n",
       "      <td>0</td>\n",
       "      <td>0</td>\n",
       "      <td>0</td>\n",
       "      <td>0</td>\n",
       "      <td>0</td>\n",
       "      <td>0</td>\n",
       "      <td>...</td>\n",
       "      <td>0</td>\n",
       "      <td>0</td>\n",
       "      <td>0</td>\n",
       "      <td>0</td>\n",
       "      <td>0</td>\n",
       "      <td>0</td>\n",
       "      <td>0</td>\n",
       "      <td>0</td>\n",
       "      <td>0</td>\n",
       "      <td>0</td>\n",
       "    </tr>\n",
       "    <tr>\n",
       "      <th>4</th>\n",
       "      <td>0</td>\n",
       "      <td>0</td>\n",
       "      <td>0</td>\n",
       "      <td>0</td>\n",
       "      <td>0</td>\n",
       "      <td>0</td>\n",
       "      <td>0</td>\n",
       "      <td>0</td>\n",
       "      <td>0</td>\n",
       "      <td>0</td>\n",
       "      <td>...</td>\n",
       "      <td>0</td>\n",
       "      <td>0</td>\n",
       "      <td>0</td>\n",
       "      <td>0</td>\n",
       "      <td>0</td>\n",
       "      <td>0</td>\n",
       "      <td>0</td>\n",
       "      <td>0</td>\n",
       "      <td>0</td>\n",
       "      <td>0</td>\n",
       "    </tr>\n",
       "    <tr>\n",
       "      <th>...</th>\n",
       "      <td>...</td>\n",
       "      <td>...</td>\n",
       "      <td>...</td>\n",
       "      <td>...</td>\n",
       "      <td>...</td>\n",
       "      <td>...</td>\n",
       "      <td>...</td>\n",
       "      <td>...</td>\n",
       "      <td>...</td>\n",
       "      <td>...</td>\n",
       "      <td>...</td>\n",
       "      <td>...</td>\n",
       "      <td>...</td>\n",
       "      <td>...</td>\n",
       "      <td>...</td>\n",
       "      <td>...</td>\n",
       "      <td>...</td>\n",
       "      <td>...</td>\n",
       "      <td>...</td>\n",
       "      <td>...</td>\n",
       "      <td>...</td>\n",
       "    </tr>\n",
       "    <tr>\n",
       "      <th>440</th>\n",
       "      <td>0</td>\n",
       "      <td>0</td>\n",
       "      <td>0</td>\n",
       "      <td>0</td>\n",
       "      <td>0</td>\n",
       "      <td>0</td>\n",
       "      <td>0</td>\n",
       "      <td>0</td>\n",
       "      <td>0</td>\n",
       "      <td>0</td>\n",
       "      <td>...</td>\n",
       "      <td>0</td>\n",
       "      <td>0</td>\n",
       "      <td>0</td>\n",
       "      <td>0</td>\n",
       "      <td>0</td>\n",
       "      <td>0</td>\n",
       "      <td>0</td>\n",
       "      <td>0</td>\n",
       "      <td>0</td>\n",
       "      <td>0</td>\n",
       "    </tr>\n",
       "    <tr>\n",
       "      <th>441</th>\n",
       "      <td>0</td>\n",
       "      <td>0</td>\n",
       "      <td>0</td>\n",
       "      <td>0</td>\n",
       "      <td>0</td>\n",
       "      <td>0</td>\n",
       "      <td>0</td>\n",
       "      <td>0</td>\n",
       "      <td>0</td>\n",
       "      <td>0</td>\n",
       "      <td>...</td>\n",
       "      <td>0</td>\n",
       "      <td>0</td>\n",
       "      <td>0</td>\n",
       "      <td>0</td>\n",
       "      <td>0</td>\n",
       "      <td>0</td>\n",
       "      <td>0</td>\n",
       "      <td>0</td>\n",
       "      <td>0</td>\n",
       "      <td>0</td>\n",
       "    </tr>\n",
       "    <tr>\n",
       "      <th>442</th>\n",
       "      <td>0</td>\n",
       "      <td>0</td>\n",
       "      <td>0</td>\n",
       "      <td>0</td>\n",
       "      <td>0</td>\n",
       "      <td>0</td>\n",
       "      <td>0</td>\n",
       "      <td>0</td>\n",
       "      <td>0</td>\n",
       "      <td>0</td>\n",
       "      <td>...</td>\n",
       "      <td>0</td>\n",
       "      <td>0</td>\n",
       "      <td>0</td>\n",
       "      <td>0</td>\n",
       "      <td>0</td>\n",
       "      <td>0</td>\n",
       "      <td>0</td>\n",
       "      <td>0</td>\n",
       "      <td>0</td>\n",
       "      <td>0</td>\n",
       "    </tr>\n",
       "    <tr>\n",
       "      <th>443</th>\n",
       "      <td>0</td>\n",
       "      <td>0</td>\n",
       "      <td>0</td>\n",
       "      <td>0</td>\n",
       "      <td>0</td>\n",
       "      <td>0</td>\n",
       "      <td>0</td>\n",
       "      <td>0</td>\n",
       "      <td>0</td>\n",
       "      <td>0</td>\n",
       "      <td>...</td>\n",
       "      <td>0</td>\n",
       "      <td>0</td>\n",
       "      <td>0</td>\n",
       "      <td>0</td>\n",
       "      <td>0</td>\n",
       "      <td>0</td>\n",
       "      <td>0</td>\n",
       "      <td>0</td>\n",
       "      <td>0</td>\n",
       "      <td>0</td>\n",
       "    </tr>\n",
       "    <tr>\n",
       "      <th>444</th>\n",
       "      <td>0</td>\n",
       "      <td>0</td>\n",
       "      <td>0</td>\n",
       "      <td>0</td>\n",
       "      <td>0</td>\n",
       "      <td>0</td>\n",
       "      <td>0</td>\n",
       "      <td>0</td>\n",
       "      <td>0</td>\n",
       "      <td>0</td>\n",
       "      <td>...</td>\n",
       "      <td>0</td>\n",
       "      <td>0</td>\n",
       "      <td>0</td>\n",
       "      <td>0</td>\n",
       "      <td>0</td>\n",
       "      <td>0</td>\n",
       "      <td>0</td>\n",
       "      <td>0</td>\n",
       "      <td>0</td>\n",
       "      <td>0</td>\n",
       "    </tr>\n",
       "  </tbody>\n",
       "</table>\n",
       "<p>445 rows × 26992 columns</p>\n",
       "</div>"
      ],
      "text/plain": [
       "    00 000 0001 000bn 000m 000th 001 001and 001st 004  ... zoom zooms zooropa  \\\n",
       "0    0   3    0     0    0     0   0      0     0   0  ...    0     0       0   \n",
       "1    0   0    0     0    0     0   0      0     0   0  ...    0     0       0   \n",
       "2    0   0    0     0    0     0   0      0     0   0  ...    0     0       0   \n",
       "3    0   1    0     0    0     0   0      0     0   0  ...    0     0       0   \n",
       "4    0   0    0     0    0     0   0      0     0   0  ...    0     0       0   \n",
       "..  ..  ..  ...   ...  ...   ...  ..    ...   ...  ..  ...  ...   ...     ...   \n",
       "440  0   0    0     0    0     0   0      0     0   0  ...    0     0       0   \n",
       "441  0   0    0     0    0     0   0      0     0   0  ...    0     0       0   \n",
       "442  0   0    0     0    0     0   0      0     0   0  ...    0     0       0   \n",
       "443  0   0    0     0    0     0   0      0     0   0  ...    0     0       0   \n",
       "444  0   0    0     0    0     0   0      0     0   0  ...    0     0       0   \n",
       "\n",
       "    zornotza zorro zuluaga zurich zutons zvonareva zvyagintsev  \n",
       "0          0     0       0      0      0         0           0  \n",
       "1          0     0       0      0      0         0           0  \n",
       "2          0     0       0      0      0         0           0  \n",
       "3          0     0       0      0      0         0           0  \n",
       "4          0     0       0      0      0         0           0  \n",
       "..       ...   ...     ...    ...    ...       ...         ...  \n",
       "440        0     0       0      0      0         0           0  \n",
       "441        0     0       0      0      0         0           0  \n",
       "442        0     0       0      0      0         0           0  \n",
       "443        0     0       0      0      0         0           0  \n",
       "444        0     0       0      0      0         0           0  \n",
       "\n",
       "[445 rows x 26992 columns]"
      ]
     },
     "execution_count": 18,
     "metadata": {},
     "output_type": "execute_result"
    }
   ],
   "source": [
    "# for test data\n",
    "X_test_transformed = vec.transform(X_test)\n",
    "# X_test_transformed\n",
    "# print(X_test_transformed)\n",
    "# convert testing set to document-term matrix\n",
    "X_test_feat = X_test_transformed.toarray()\n",
    "# convert to sparse matrix for readability\n",
    "pd.DataFrame(X_test_feat, columns= [vec.get_feature_names()])\n"
   ]
  },
  {
   "cell_type": "markdown",
   "metadata": {},
   "source": [
    "6 train a multinomial Naive Bayes Classifier on the training set using the default parameters and evaluate it on the test set"
   ]
  },
  {
   "cell_type": "code",
   "execution_count": 19,
   "metadata": {},
   "outputs": [
    {
     "name": "stdout",
     "output_type": "stream",
     "text": [
      "--------------------------------MultinomialNB default values, try 1-----------------------------------\n",
      "(b) the confusion matrix: \n",
      "[[93  0  0  0  4]\n",
      " [ 1 79  2  0  1]\n",
      " [ 0  0 89  0  0]\n",
      " [ 0  0  0 90  0]\n",
      " [ 0  0  3  0 83]]\n",
      "(c) the precision, recall and F1-measure for each class of the test set : \n",
      "              precision    recall  f1-score   support\n",
      "\n",
      "           0       0.99      0.96      0.97        97\n",
      "           1       1.00      0.95      0.98        83\n",
      "           2       0.95      1.00      0.97        89\n",
      "           3       1.00      1.00      1.00        90\n",
      "           4       0.94      0.97      0.95        86\n",
      "\n",
      "    accuracy                           0.98       445\n",
      "   macro avg       0.98      0.98      0.98       445\n",
      "weighted avg       0.98      0.98      0.98       445\n",
      "\n",
      "(d) the accuracy, macro-average F1 and weighted-average F1 of the model: \n",
      "Accuracy score of the test set is : 0.9752808988764045\n",
      "Macro average F1 of the test set is : 0.9751662431276534\n",
      "Weighted average F1 of the test set is : 0.9753385017767798\n"
     ]
    }
   ],
   "source": [
    "# multinomial Naive Bayes\n",
    "print(\"--------------------------------MultinomialNB default values, try 1-----------------------------------\")\n",
    "nb = MultinomialNB(alpha=1)\n",
    "# fit the training set using the default parameters and evaluate it on the test set\n",
    "nb.fit(X_train_transformed, y_train)\n",
    "\n",
    "# predict, Perform classification on an array of test vectors X.\n",
    "y_pred_class = nb.predict(X_test_transformed)\n",
    "# predict probabilities, Return probability estimates for the test vector X.\n",
    "y_pred_proba = nb.predict_proba(X_test_transformed)\n",
    "\n",
    "# b) confusion matrix\n",
    "from sklearn import metrics\n",
    "confusion = metrics.confusion_matrix(y_test, y_pred_class)\n",
    "print(\"(b) the confusion matrix: \")\n",
    "print(confusion)\n",
    "\n",
    "\n",
    "\n",
    "# c) the precision, recall and F1-measure for each class\n",
    "print(\"(c) the precision, recall and F1-measure for each class of the test set : \")\n",
    "print(metrics.classification_report(y_test, y_pred_class))\n",
    "\n",
    "\n",
    "\n",
    "# d) the accuracy, macro-average F1 and weighted-average F1 of the model\n",
    "\n",
    "accuracy = metrics.accuracy_score(y_test, y_pred_class)\n",
    "print(\"(d) the accuracy, macro-average F1 and weighted-average F1 of the model: \")\n",
    "print(\"Accuracy score of the test set is : \" + str(accuracy))\n",
    "\n",
    "macro_avg_F1 = metrics.f1_score(y_test, y_pred_class, average='macro')\n",
    "print(\"Macro average F1 of the test set is : \" + str(macro_avg_F1))\n",
    "weighted_avg_F1 = metrics.f1_score(y_test, y_pred_class, average='weighted')\n",
    "print(\"Weighted average F1 of the test set is : \" + str(weighted_avg_F1))\n",
    "\n",
    "# index = nb.predict(vec.transform(['Need to restart economy but with caution: Yogi Adityanath at E-Agenda AajTak']))\n",
    "\n",
    "# def type_check(i):\n",
    "#     if i == 0:\n",
    "#         print('business')\n",
    "#     elif i == 1:\n",
    "#         print('entertainment')\n",
    "#     elif i == 2:\n",
    "#         print('politics')\n",
    "#     elif i == 3:\n",
    "#         print('sport')\n",
    "#     elif i == 4:\n",
    "#         print('tech')\n",
    "# type_check(index)"
   ]
  },
  {
   "cell_type": "code",
   "execution_count": 20,
   "metadata": {},
   "outputs": [
    {
     "name": "stdout",
     "output_type": "stream",
     "text": [
      "(e) the prior probability of each class : \n",
      "2225\n",
      "business: 0.2292134831460674\n",
      "entertainment: 0.17348314606741572\n",
      "politics: 0.18741573033707865\n",
      "sport: 0.22966292134831462\n",
      "tech: 0.1802247191011236\n"
     ]
    }
   ],
   "source": [
    "# e) the prior probability of each class\n",
    "print(\"(e) the prior probability of each class : \")\n",
    "\n",
    "sum = np.sum(y_np)\n",
    "print(sum)\n",
    "index = 0\n",
    "for i in x_np:\n",
    "    prior = y_np[index]/sum\n",
    "    index = index + 1\n",
    "    print(i + ': ' + str(prior))\n",
    "\n"
   ]
  },
  {
   "cell_type": "code",
   "execution_count": 21,
   "metadata": {},
   "outputs": [
    {
     "name": "stdout",
     "output_type": "stream",
     "text": [
      "(f) the size of the vocabulary(the number of different words\n",
      "29421\n"
     ]
    }
   ],
   "source": [
    "# f) the size of the vocabulary(the number of different words)\n",
    "print(\"(f) the size of the vocabulary(the number of different words\")\n",
    "print(len(vocabulary_corpus))"
   ]
  },
  {
   "cell_type": "code",
   "execution_count": 22,
   "metadata": {},
   "outputs": [
    {
     "name": "stdout",
     "output_type": "stream",
     "text": [
      "(g) the number of word-tokens in each class: \n",
      "The number of word-tokens in business: 164663\n",
      "The number of word-tokens in entertainment: 124893\n",
      "The number of word-tokens in politics: 185208\n",
      "The number of word-tokens in sport: 162953\n",
      "The number of word-tokens in tech: 198640\n"
     ]
    }
   ],
   "source": [
    "# g) the number of word-tokens in each class\n",
    "print(\"(g) the number of word-tokens in each class: \")\n",
    "for class_name in corpus_category_names:\n",
    "    # print(class_name)\n",
    "    class_data = load_files(\"BBC\", categories=class_name, encoding='latin1')\n",
    "    class_data_data = class_data.data\n",
    "    class_vec = CountVectorizer()\n",
    "    class_array = class_vec.fit_transform(class_data_data).toarray()\n",
    "    sum_class = class_array.sum()\n",
    "\n",
    "    \n",
    "    print(\"The number of word-tokens in \" + class_name + \": \" + str(sum_class))\n",
    "    \n"
   ]
  },
  {
   "cell_type": "code",
   "execution_count": 23,
   "metadata": {},
   "outputs": [
    {
     "name": "stdout",
     "output_type": "stream",
     "text": [
      "(h) the number of word-tokens in the entire corpus: \n",
      "Total word-tokens in entire corpus: 836357\n",
      "(j) the number and percentage of words with a frequency of 1 in the entire corpus: \n",
      "The number of words with a frequency of 1 in entire corpus: 10005\n",
      "The percentage of words with a frequency of 1 in entire corpus: 0.01196259492059013\n"
     ]
    }
   ],
   "source": [
    "# h) the number of word-tokens in the entire corpus\n",
    "print('(h) the number of word-tokens in the entire corpus: ')\n",
    "sum_total = vector.toarray().sum() \n",
    "print(\"Total word-tokens in entire corpus: \" + str(sum_total))\n",
    "\n",
    "# j) the number and percentage of words with a frequency of 1 in the entire corpus\n",
    "print('(j) the number and percentage of words with a frequency of 1 in the entire corpus: ')\n",
    "count_word = 0\n",
    "for word in (vector.toarray().sum(axis = 0)):\n",
    "    if word == 1:\n",
    "        count_word = count_word + 1\n",
    "print(\"The number of words with a frequency of 1 in entire corpus: \" + str(count_word))\n",
    "print(\"The percentage of words with a frequency of 1 in entire corpus: \" + str(count_word/sum_total))"
   ]
  },
  {
   "cell_type": "code",
   "execution_count": 33,
   "metadata": {},
   "outputs": [
    {
     "name": "stdout",
     "output_type": "stream",
     "text": [
      "(i) the number and percentage of words with freuency of zero in each class: \n",
      "The number of words with frequency of zero in business: 17538\n",
      "The percentage of words with frequency of zero in business: 0.5961048230855511\n",
      "The number of words with frequency of zero in entertainment: 17746\n",
      "The percentage of words with frequency of zero in entertainment: 0.6031746031746031\n",
      "The number of words with frequency of zero in politics: 18201\n",
      "The percentage of words with frequency of zero in politics: 0.6186397471194045\n",
      "The number of words with frequency of zero in sport: 18850\n",
      "The percentage of words with frequency of zero in sport: 0.6406988205703409\n",
      "The number of words with frequency of zero in tech: 17323\n",
      "The percentage of words with frequency of zero in tech: 0.5887971177050406\n"
     ]
    }
   ],
   "source": [
    "# i) the number and percentage of words with freuency of zero in each class\n",
    "print('(i) the number and percentage of words with freuency of zero in each class: ')\n",
    "for class_name in corpus_category_names:\n",
    "    # print(class_name)\n",
    "    class_data = load_files(\"BBC\", categories=class_name, encoding='latin1')\n",
    "    class_data_data = class_data.data\n",
    "    class_vec = CountVectorizer()\n",
    "    class_vec.fit(class_data_data)\n",
    "    num_feat_word = len(class_vec.get_feature_names())\n",
    "    num_zero = len(vocabulary_corpus)-num_feat_word\n",
    "    print(\"The number of words with frequency of zero in \" + class_name + \": \"+ str(num_zero))\n",
    "    print(\"The percentage of words with frequency of zero in \" + class_name + \": \"+ str(num_zero/len(vocabulary_corpus)))\n"
   ]
  },
  {
   "cell_type": "code",
   "execution_count": 24,
   "metadata": {},
   "outputs": [
    {
     "name": "stdout",
     "output_type": "stream",
     "text": [
      "(k) 2 favoirite words and their log-prob\n",
      "frequency of 'love': 151\n",
      "the log-prob of the 'love' favorite word is: -8.619530997591884\n",
      "frequency of 'key': 245\n",
      "the log-prob of the 'key' favorite word is: -8.135552623862083\n"
     ]
    }
   ],
   "source": [
    "\n",
    "counts = pd.DataFrame(vector.toarray(), columns=vectorizer.get_feature_names())\n",
    "print(\"(k) 2 favoirite words and their log-prob\")\n",
    "# counts\n",
    "# show the top 10 most common words\n",
    "# print(counts.T.sort_values(by=0, ascending=False).head(10))\n",
    "import math\n",
    "count_love = counts['love'].sum()\n",
    "print(\"frequency of 'love': \" + str(count_love))\n",
    "log_prob_love = math.log(count_love/sum_total)\n",
    "print(\"the log-prob of the 'love' favorite word is: \" + str(log_prob_love))\n",
    "count_key = counts['key'].sum()\n",
    "print(\"frequency of 'key': \" + str(count_key))\n",
    "log_prob_key = math.log(count_key/sum_total)\n",
    "print(\"the log-prob of the 'key' favorite word is: \" + str(log_prob_key))\n"
   ]
  },
  {
   "cell_type": "markdown",
   "metadata": {},
   "source": [
    "# 8. Redo steps 6 and 7 without changing anything (do not redo step 5, the dataset split). Change the model name to something like \\MultinomialNB default values, try 2\" and append the results to the  tle  bbc-performance.txt.\n",
    "\n",
    "\n"
   ]
  },
  {
   "cell_type": "code",
   "execution_count": 36,
   "metadata": {},
   "outputs": [
    {
     "name": "stdout",
     "output_type": "stream",
     "text": [
      "--------------------------------MultinomialNB default values, try 2-----------------------------------\n",
      "(b) the confusion matrix: \n",
      "[[ 77   0   3   0   3]\n",
      " [  0  77   1   0   2]\n",
      " [  1   0  88   0   0]\n",
      " [  0   0   0 112   0]\n",
      " [  0   1   0   0  80]]\n",
      "(c) the precision, recall and F1-measure for each class of the test set : \n",
      "              precision    recall  f1-score   support\n",
      "\n",
      "           0       0.99      0.93      0.96        83\n",
      "           1       0.99      0.96      0.97        80\n",
      "           2       0.96      0.99      0.97        89\n",
      "           3       1.00      1.00      1.00       112\n",
      "           4       0.94      0.99      0.96        81\n",
      "\n",
      "    accuracy                           0.98       445\n",
      "   macro avg       0.97      0.97      0.97       445\n",
      "weighted avg       0.98      0.98      0.98       445\n",
      "\n",
      "(d) the accuracy, macro-average F1 and weighted-average F1 of the model: \n",
      "Accuracy score of the test set is : 0.9752808988764045\n",
      "Macro average F1 of the test set is : 0.9734872791457427\n",
      "Weighted average F1 of the test set is : 0.9752353112648198\n"
     ]
    }
   ],
   "source": [
    "# multinomial Naive Bayes\n",
    "print(\"--------------------------------MultinomialNB default values, try 2-----------------------------------\")\n",
    "nb = MultinomialNB(alpha=2)\n",
    "# fit the training set using the default parameters and evaluate it on the test set\n",
    "nb.fit(X_train_transformed, y_train)\n",
    "\n",
    "# predict, Perform classification on an array of test vectors X.\n",
    "y_pred_class = nb.predict(X_test_transformed)\n",
    "# predict probabilities, Return probability estimates for the test vector X.\n",
    "y_pred_proba = nb.predict_proba(X_test_transformed)\n",
    "\n",
    "# b) confusion matrix\n",
    "from sklearn import metrics\n",
    "confusion = metrics.confusion_matrix(y_test, y_pred_class)\n",
    "print(\"(b) the confusion matrix: \")\n",
    "print(confusion)\n",
    "\n",
    "\n",
    "\n",
    "# c) the precision, recall and F1-measure for each class\n",
    "print(\"(c) the precision, recall and F1-measure for each class of the test set : \")\n",
    "print(metrics.classification_report(y_test, y_pred_class))\n",
    "\n",
    "\n",
    "\n",
    "# d) the accuracy, macro-average F1 and weighted-average F1 of the model\n",
    "\n",
    "accuracy = metrics.accuracy_score(y_test, y_pred_class)\n",
    "print(\"(d) the accuracy, macro-average F1 and weighted-average F1 of the model: \")\n",
    "print(\"Accuracy score of the test set is : \" + str(accuracy))\n",
    "\n",
    "macro_avg_F1 = metrics.f1_score(y_test, y_pred_class, average='macro')\n",
    "print(\"Macro average F1 of the test set is : \" + str(macro_avg_F1))\n",
    "weighted_avg_F1 = metrics.f1_score(y_test, y_pred_class, average='weighted')\n",
    "print(\"Weighted average F1 of the test set is : \" + str(weighted_avg_F1))\n",
    "\n",
    "# index = nb.predict(vec.transform(['Need to restart economy but with caution: Yogi Adityanath at E-Agenda AajTak']))\n",
    "\n",
    "# def type_check(i):\n",
    "#     if i == 0:\n",
    "#         print('business')\n",
    "#     elif i == 1:\n",
    "#         print('entertainment')\n",
    "#     elif i == 2:\n",
    "#         print('politics')\n",
    "#     elif i == 3:\n",
    "#         print('sport')\n",
    "#     elif i == 4:\n",
    "#         print('tech')\n",
    "# type_check(index)"
   ]
  },
  {
   "cell_type": "code",
   "execution_count": 26,
   "metadata": {},
   "outputs": [
    {
     "name": "stdout",
     "output_type": "stream",
     "text": [
      "(e)the prior probility of each class :\n",
      "2225\n",
      "business:0.2292134831460674\n",
      "entertainment:0.17348314606741572\n",
      "politics:0.18741573033707865\n",
      "sport:0.22966292134831462\n",
      "tech:0.1802247191011236\n"
     ]
    }
   ],
   "source": [
    "#E) The prior probability of each class\n",
    "print(\"(e)the prior probility of each class :\")\n",
    "\n",
    "sum=np.sum(y_np)\n",
    "print(sum)\n",
    "#print(y_np[0])\n",
    "index=0\n",
    "for i in x_np:\n",
    "    prior=y_np[index]/sum\n",
    "    index=index+1\n",
    "    print(i+':'+str(prior))"
   ]
  },
  {
   "cell_type": "code",
   "execution_count": 42,
   "metadata": {},
   "outputs": [
    {
     "name": "stdout",
     "output_type": "stream",
     "text": [
      "(f) the size of the vocabulary(the number of different words)\n",
      "29421\n"
     ]
    }
   ],
   "source": [
    "#f) the size of the vocabulary(the number of  different words)\n",
    "v=len(vocabulary_corpus)\n",
    "print(\"(f) the size of the vocabulary(the number of different words)\")\n",
    "print(v)"
   ]
  },
  {
   "cell_type": "code",
   "execution_count": 44,
   "metadata": {},
   "outputs": [
    {
     "name": "stdout",
     "output_type": "stream",
     "text": [
      "(g)the number of word-tokens in each class:\n",
      "The number of word-tokens in  business:223505\n",
      "The number of word-tokens in  entertainment:183735\n",
      "The number of word-tokens in  politics:244050\n",
      "The number of word-tokens in  sport:221795\n",
      "The number of word-tokens in  tech:257482\n"
     ]
    }
   ],
   "source": [
    "#g)the number of word-tokens in each class\n",
    "print(\"(g)the number of word-tokens in each class:\")\n",
    "for class_name in corpus_category_names:\n",
    "    #print(class name)\n",
    "    class_data=load_files(\"BBC\",categories=class_name,encoding='latin1')\n",
    "    class_data_data=class_data.data\n",
    "    class_vec=CountVectorizer()\n",
    "    class_array=class_vec.fit_transform(class_data_data).toarray()\n",
    "    sum_class=class_array.sum()+2*v\n",
    "    \n",
    "    print(\"The number of word-tokens in  \"+class_name+\":\"+str(sum_class))"
   ]
  },
  {
   "cell_type": "code",
   "execution_count": 49,
   "metadata": {},
   "outputs": [
    {
     "name": "stdout",
     "output_type": "stream",
     "text": [
      "(h)the number of word-tokens in the entire corpus:\n",
      "Total word-tokens in entire corpus:895199\n",
      "(j) the number and percentage of words with a frequency of 1 in the entire corpus:\n",
      "The number of words with a frequency of 1 in entire corpus: 0\n",
      "The percentage of words with a frequency of 1 in entire corpus :0.0\n"
     ]
    }
   ],
   "source": [
    "#h)the number of word-token in the entir corpus\n",
    "print(\"(h)the number of word-tokens in the entire corpus:\")\n",
    "sum_total=vector.toarray().sum()+2*v\n",
    "\n",
    "print(\"Total word-tokens in entire corpus:\"+str(sum_total))# add 2*v\n",
    "\n",
    "#j)the number and percentage of words with a frequecny of 1 in the entire corpus\n",
    "print('(j) the number and percentage of words with a frequency of 1 in the entire corpus:')\n",
    "cout_word=0\n",
    "#for word in (vector.toarray().sum(axis=0)):#axis=0 sum the column number\n",
    "    #if word==1:\n",
    "        #count_word=count_word+1\n",
    "        \n",
    "print(\"The number of words with a frequency of 1 in entire corpus: \"+ str(cout_word))\n",
    "p=cout_word/sum_total\n",
    "\n",
    "print(\"The percentage of words with a frequency of 1 in entire corpus :\"+str(p))\n"
   ]
  },
  {
   "cell_type": "code",
   "execution_count": 54,
   "metadata": {},
   "outputs": [
    {
     "name": "stdout",
     "output_type": "stream",
     "text": [
      "(i)the number and percentage of words with freuency of zero in each class:\n",
      "The number of words with frequency of zero in business:0\n",
      "The percentage of words with frequency of zero in business:0.0\n",
      "The number of words with frequency of zero in entertainment:0\n",
      "The percentage of words with frequency of zero in entertainment:0.0\n",
      "The number of words with frequency of zero in politics:0\n",
      "The percentage of words with frequency of zero in politics:0.0\n",
      "The number of words with frequency of zero in sport:0\n",
      "The percentage of words with frequency of zero in sport:0.0\n",
      "The number of words with frequency of zero in tech:0\n",
      "The percentage of words with frequency of zero in tech:0.0\n"
     ]
    }
   ],
   "source": [
    "# i)the number and percentage of words with frequency of zero in each class\n",
    "print(\"(i)the number and percentage of words with freuency of zero in each class:\")\n",
    "for class_name in corpus_category_names:\n",
    "    #print(class_name)\n",
    "    class_data=load_files(\"BBC\",categories=class_name,encoding='latin1')\n",
    "    class_data_data=class_data.data\n",
    "    class_vec=CountVectorizer()\n",
    "    class_vec.fit(class_data.data)\n",
    "    num_feat_word=len(class_vec.get_feature_names())\n",
    "    num_zero=len(vocabulary_corpus)-num_feat_word ###why?\n",
    "    print(\"The number of words with frequency of zero in \"+class_name+\":\"+str(num_zero-num_zero))\n",
    "    print(\"The percentage of words with frequency of zero in \"+class_name+\":\"+str((num_zero-num_zero)/len(vocabulary_corpus)))"
   ]
  },
  {
   "cell_type": "code",
   "execution_count": 59,
   "metadata": {},
   "outputs": [
    {
     "name": "stdout",
     "output_type": "stream",
     "text": [
      "(k) 2 favorite words and their log-prob\n",
      "frequency of 'love':153\n",
      "The log-prob of the 'love' favorite word is :-8.73802400505371\n",
      "frequency of 'key':247\n",
      "The log-prob of the 'key'favorite word is :-8.04209945480497\n"
     ]
    }
   ],
   "source": [
    "# k)Two favorite words and theri log-prob\n",
    "counts=pd.DataFrame(vector.toarray(),columns=vectorizer.get_feature_names())\n",
    "print(\"(k) 2 favorite words and their log-prob\")\n",
    "#counts\n",
    "#show the top 10 most common words\n",
    "#print(counts.T.sort_values(by=0,ascending=False).head(10))\n",
    "import math\n",
    "count_love=counts['love'].sum()\n",
    "count_love_smooth=count_love+2\n",
    "print(\"frequency of 'love':\"+ str(count_love_smooth))\n",
    "#print(sum_total)\n",
    "sum_total_smooth=sum_total+2*v\n",
    "#print(sum_total_smooth)\n",
    "log_prob_love=math.log(count_love_smooth/sum_total_smooth)\n",
    "print(\"The log-prob of the 'love' favorite word is :\"+ str(log_prob_love))\n",
    "count_key=counts['key'].sum()\n",
    "count_key_smooth=count_key+2\n",
    "print(\"frequency of 'key':\"+str(count_key_smooth))\n",
    "log_prob_key=math.log(count_key_smooth/sum_total_smooth)\n",
    "print(\"The log-prob of the 'key'favorite word is :\"+str(log_prob_free))\n"
   ]
  },
  {
   "cell_type": "markdown",
   "metadata": {},
   "source": [
    "# 9. Redo steps 6 and 7 again, but this time, change the smoothing value to 0.0001. Append the results at the end of bbc-performance.txt.\n"
   ]
  },
  {
   "cell_type": "code",
   "execution_count": 37,
   "metadata": {},
   "outputs": [
    {
     "name": "stdout",
     "output_type": "stream",
     "text": [
      "--------------------------------MultinomialNB default values, try 0.0001-----------------------------------\n",
      "(b) the confusion matrix: \n",
      "[[ 75   0   3   0   5]\n",
      " [  0  77   2   0   1]\n",
      " [  3   0  86   0   0]\n",
      " [  0   0   0 112   0]\n",
      " [  2   2   0   0  77]]\n",
      "(c) the precision, recall and F1-measure for each class of the test set : \n",
      "              precision    recall  f1-score   support\n",
      "\n",
      "           0       0.94      0.90      0.92        83\n",
      "           1       0.97      0.96      0.97        80\n",
      "           2       0.95      0.97      0.96        89\n",
      "           3       1.00      1.00      1.00       112\n",
      "           4       0.93      0.95      0.94        81\n",
      "\n",
      "    accuracy                           0.96       445\n",
      "   macro avg       0.96      0.96      0.96       445\n",
      "weighted avg       0.96      0.96      0.96       445\n",
      "\n",
      "(d) the accuracy, macro-average F1 and weighted-average F1 of the model: \n",
      "Accuracy score of the test set is : 0.9595505617977528\n",
      "Macro average F1 of the test set is : 0.9566757607383922\n",
      "Weighted average F1 of the test set is : 0.9594832918694827\n"
     ]
    }
   ],
   "source": [
    "# multinomial Naive Bayes\n",
    "print(\"--------------------------------MultinomialNB default values, try 0.0001-----------------------------------\")\n",
    "nb = MultinomialNB(alpha=0.0001)\n",
    "# fit the training set using the default parameters and evaluate it on the test set\n",
    "nb.fit(X_train_transformed, y_train)\n",
    "\n",
    "# predict, Perform classification on an array of test vectors X.\n",
    "y_pred_class = nb.predict(X_test_transformed)\n",
    "# predict probabilities, Return probability estimates for the test vector X.\n",
    "y_pred_proba = nb.predict_proba(X_test_transformed)\n",
    "\n",
    "# b) confusion matrix\n",
    "from sklearn import metrics\n",
    "confusion = metrics.confusion_matrix(y_test, y_pred_class)\n",
    "print(\"(b) the confusion matrix: \")\n",
    "print(confusion)\n",
    "\n",
    "\n",
    "\n",
    "# c) the precision, recall and F1-measure for each class\n",
    "print(\"(c) the precision, recall and F1-measure for each class of the test set : \")\n",
    "print(metrics.classification_report(y_test, y_pred_class))\n",
    "\n",
    "\n",
    "\n",
    "# d) the accuracy, macro-average F1 and weighted-average F1 of the model\n",
    "\n",
    "accuracy = metrics.accuracy_score(y_test, y_pred_class)\n",
    "print(\"(d) the accuracy, macro-average F1 and weighted-average F1 of the model: \")\n",
    "print(\"Accuracy score of the test set is : \" + str(accuracy))\n",
    "\n",
    "macro_avg_F1 = metrics.f1_score(y_test, y_pred_class, average='macro')\n",
    "print(\"Macro average F1 of the test set is : \" + str(macro_avg_F1))\n",
    "weighted_avg_F1 = metrics.f1_score(y_test, y_pred_class, average='weighted')\n",
    "print(\"Weighted average F1 of the test set is : \" + str(weighted_avg_F1))\n",
    "\n",
    "# index = nb.predict(vec.transform(['Need to restart economy but with caution: Yogi Adityanath at E-Agenda AajTak']))\n",
    "\n",
    "# def type_check(i):\n",
    "#     if i == 0:\n",
    "#         print('business')\n",
    "#     elif i == 1:\n",
    "#         print('entertainment')\n",
    "#     elif i == 2:\n",
    "#         print('politics')\n",
    "#     elif i == 3:\n",
    "#         print('sport')\n",
    "#     elif i == 4:\n",
    "#         print('tech')\n",
    "# type_check(index)"
   ]
  },
  {
   "cell_type": "code",
   "execution_count": 60,
   "metadata": {},
   "outputs": [
    {
     "name": "stdout",
     "output_type": "stream",
     "text": [
      "(e)the prior probility of each class :\n",
      "2225\n",
      "business:0.2292134831460674\n",
      "entertainment:0.17348314606741572\n",
      "politics:0.18741573033707865\n",
      "sport:0.22966292134831462\n",
      "tech:0.1802247191011236\n"
     ]
    }
   ],
   "source": [
    "#E) The prior probability of each class\n",
    "print(\"(e)the prior probility of each class :\")\n",
    "\n",
    "sum=np.sum(y_np)\n",
    "print(sum)\n",
    "#print(y_np[0])\n",
    "index=0\n",
    "for i in x_np:\n",
    "    prior=y_np[index]/sum\n",
    "    index=index+1\n",
    "    print(i+':'+str(prior))"
   ]
  },
  {
   "cell_type": "code",
   "execution_count": 61,
   "metadata": {},
   "outputs": [
    {
     "name": "stdout",
     "output_type": "stream",
     "text": [
      "(f) the size of the vocabulary(the number of different words)\n",
      "29421\n"
     ]
    }
   ],
   "source": [
    "#f) the size of the vocabulary(the number of  different words)\n",
    "v=len(vocabulary_corpus)\n",
    "print(\"(f) the size of the vocabulary(the number of different words)\")\n",
    "print(v)"
   ]
  },
  {
   "cell_type": "code",
   "execution_count": 62,
   "metadata": {},
   "outputs": [
    {
     "name": "stdout",
     "output_type": "stream",
     "text": [
      "(g)the number of word-tokens in each class:\n",
      "The number of word-tokens in  business:164665.9421\n",
      "The number of word-tokens in  entertainment:124895.9421\n",
      "The number of word-tokens in  politics:185210.9421\n",
      "The number of word-tokens in  sport:162955.9421\n",
      "The number of word-tokens in  tech:198642.9421\n"
     ]
    }
   ],
   "source": [
    "#g)the number of word-tokens in each class\n",
    "print(\"(g)the number of word-tokens in each class:\")\n",
    "for class_name in corpus_category_names:\n",
    "    #print(class name)\n",
    "    class_data=load_files(\"BBC\",categories=class_name,encoding='latin1')\n",
    "    class_data_data=class_data.data\n",
    "    class_vec=CountVectorizer()\n",
    "    class_array=class_vec.fit_transform(class_data_data).toarray()\n",
    "    sum_class=class_array.sum()+0.0001*v\n",
    "    \n",
    "    print(\"The number of word-tokens in  \"+class_name+\":\"+str(sum_class))"
   ]
  },
  {
   "cell_type": "code",
   "execution_count": 65,
   "metadata": {},
   "outputs": [
    {
     "name": "stdout",
     "output_type": "stream",
     "text": [
      "(h)the number of word-tokens in the entire corpus:\n",
      "Total word-tokens in entire corpus:836359.9421\n",
      "(j) the number and percentage of words with a frequency of 1 in the entire corpus:\n",
      "The number of words with a frequency of 1 in entire corpus: 0\n",
      "The percentage of words with a frequency of 1 in entire corpus :0.0\n"
     ]
    }
   ],
   "source": [
    "#h)the number of word-token in the entir corpus\n",
    "print(\"(h)the number of word-tokens in the entire corpus:\")\n",
    "sum_total=vector.toarray().sum()+0.0001*v\n",
    "\n",
    "print(\"Total word-tokens in entire corpus:\"+str(sum_total))# add 2*v\n",
    "\n",
    "#j)the number and percentage of words with a frequecny of 1 in the entire corpus\n",
    "print('(j) the number and percentage of words with a frequency of 1 in the entire corpus:')\n",
    "cout_word=0\n",
    "#for word in (vector.toarray().sum(axis=0)):#axis=0 sum the column number\n",
    "    #if word==1:\n",
    "        #count_word=count_word+1\n",
    "        \n",
    "print(\"The number of words with a frequency of 1 in entire corpus: \"+ str(cout_word))\n",
    "p=cout_word/sum_total\n",
    "\n",
    "print(\"The percentage of words with a frequency of 1 in entire corpus :\"+str(p))"
   ]
  },
  {
   "cell_type": "code",
   "execution_count": 66,
   "metadata": {},
   "outputs": [
    {
     "name": "stdout",
     "output_type": "stream",
     "text": [
      "(i)the number and percentage of words with freuency of zero in each class:\n",
      "The number of words with frequency of zero in business:0\n",
      "The percentage of words with frequency of zero in business:0.0\n",
      "The number of words with frequency of zero in entertainment:0\n",
      "The percentage of words with frequency of zero in entertainment:0.0\n",
      "The number of words with frequency of zero in politics:0\n",
      "The percentage of words with frequency of zero in politics:0.0\n",
      "The number of words with frequency of zero in sport:0\n",
      "The percentage of words with frequency of zero in sport:0.0\n",
      "The number of words with frequency of zero in tech:0\n",
      "The percentage of words with frequency of zero in tech:0.0\n"
     ]
    }
   ],
   "source": [
    "# i)the number and percentage of words with frequency of zero in each class\n",
    "print(\"(i)the number and percentage of words with freuency of zero in each class:\")\n",
    "for class_name in corpus_category_names:\n",
    "    #print(class_name)\n",
    "    class_data=load_files(\"BBC\",categories=class_name,encoding='latin1')\n",
    "    class_data_data=class_data.data\n",
    "    class_vec=CountVectorizer()\n",
    "    class_vec.fit(class_data.data)\n",
    "    num_feat_word=len(class_vec.get_feature_names())\n",
    "    num_zero=len(vocabulary_corpus)-num_feat_word ###why?\n",
    "    print(\"The number of words with frequency of zero in \"+class_name+\":\"+str(num_zero-num_zero))\n",
    "    print(\"The percentage of words with frequency of zero in \"+class_name+\":\"+str((num_zero-num_zero)/len(vocabulary_corpus)))"
   ]
  },
  {
   "cell_type": "code",
   "execution_count": 67,
   "metadata": {},
   "outputs": [
    {
     "name": "stdout",
     "output_type": "stream",
     "text": [
      "(k) 2 favorite words and their log-prob\n",
      "frequency of 'love':151.0001\n",
      "The log-prob of the 'love' favorite word is :-8.619537370828047\n",
      "frequency of 'key':245.0001\n",
      "The log-prob of the 'key'favorite word is :-8.04209945480497\n"
     ]
    }
   ],
   "source": [
    "# k)Two favorite words and theri log-prob\n",
    "counts=pd.DataFrame(vector.toarray(),columns=vectorizer.get_feature_names())\n",
    "print(\"(k) 2 favorite words and their log-prob\")\n",
    "#counts\n",
    "#show the top 10 most common words\n",
    "#print(counts.T.sort_values(by=0,ascending=False).head(10))\n",
    "import math\n",
    "count_love=counts['love'].sum()\n",
    "count_love_smooth=count_love+0.0001\n",
    "print(\"frequency of 'love':\"+ str(count_love_smooth))\n",
    "#print(sum_total)\n",
    "sum_total_smooth=sum_total+0.0001*v\n",
    "#print(sum_total_smooth)\n",
    "log_prob_love=math.log(count_love_smooth/sum_total_smooth)\n",
    "print(\"The log-prob of the 'love' favorite word is :\"+ str(log_prob_love))\n",
    "count_key=counts['key'].sum()\n",
    "count_key_smooth=count_key+0.0001\n",
    "print(\"frequency of 'key':\"+str(count_key_smooth))\n",
    "log_prob_key=math.log(count_key_smooth/sum_total_smooth)\n",
    "print(\"The log-prob of the 'key'favorite word is :\"+str(log_prob_free))\n"
   ]
  },
  {
   "cell_type": "code",
   "execution_count": null,
   "metadata": {},
   "outputs": [],
   "source": []
  }
 ],
 "metadata": {
  "interpreter": {
   "hash": "f8fce6691405556ffb3062e1861de211962c440fc65c8599586c6206ef07fdf2"
  },
  "kernelspec": {
   "display_name": "Python 3",
   "language": "python",
   "name": "python3"
  },
  "language_info": {
   "codemirror_mode": {
    "name": "ipython",
    "version": 3
   },
   "file_extension": ".py",
   "mimetype": "text/x-python",
   "name": "python",
   "nbconvert_exporter": "python",
   "pygments_lexer": "ipython3",
   "version": "3.7.6"
  }
 },
 "nbformat": 4,
 "nbformat_minor": 5
}
