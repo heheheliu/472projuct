{
 "cells": [
  {
   "cell_type": "code",
   "execution_count": 5,
   "source": [
    "import numpy as np\n",
    "import pandas as pd\n",
    "import matplotlib.pyplot as plt\n",
    "import seaborn as sns\n",
    "import os\n",
    "sns.set_style(\"darkgrid\")"
   ],
   "outputs": [],
   "metadata": {}
  },
  {
   "cell_type": "code",
   "execution_count": 39,
   "source": [
    "numOffolds = len(os.listdir('BBC/'))\n",
    "print(numOffolds)\n",
    "all_folds = os.listdir('BBC/')\n",
    "folder_path = all_folds[2]\n",
    "print(folder_path)\n",
    "\n",
    "len([x for x in os.listdir('BBC/'+folder_path)])\n"
   ],
   "outputs": [
    {
     "output_type": "stream",
     "name": "stdout",
     "text": [
      "5\n",
      "sport\n"
     ]
    },
    {
     "output_type": "execute_result",
     "data": {
      "text/plain": [
       "511"
      ]
     },
     "metadata": {},
     "execution_count": 39
    }
   ],
   "metadata": {}
  },
  {
   "cell_type": "code",
   "execution_count": 58,
   "source": [
    "data_need = []\n",
    "data_x = []\n",
    "data_y = []\n",
    "\n",
    "\n",
    "path = 'BBC/'\n",
    "all_folds = os.listdir(path)\n",
    "\n",
    "for i in range (len(all_folds)):\n",
    "    data_x.append(all_folds[i])\n",
    "    print(f'comput No.{i+1} folder.')\n",
    "    folder_path = all_folds[i]\n",
    "    NumOfFiles = len([x for x in os.listdir(path + folder_path)])\n",
    "    data_y.append(NumOfFiles)\n",
    "    print(f'No.{i+1} has {NumOfFiles} files.')\n",
    "    table = pd.DataFrame({'folder_id': all_folds[i],'file_num':[NumOfFiles]})\n",
    "    data_need.append(table)\n",
    "\n",
    "        "
   ],
   "outputs": [
    {
     "output_type": "stream",
     "name": "stdout",
     "text": [
      "comput No.1 folder.\n",
      "No.1 has 386 files.\n",
      "comput No.2 folder.\n",
      "No.2 has 510 files.\n",
      "comput No.3 folder.\n",
      "No.3 has 511 files.\n",
      "comput No.4 folder.\n",
      "No.4 has 417 files.\n",
      "comput No.5 folder.\n",
      "No.5 has 401 files.\n"
     ]
    }
   ],
   "metadata": {}
  },
  {
   "cell_type": "code",
   "execution_count": 47,
   "source": [
    "data_final = pd.concat(data_need, axis=0)\n",
    "print(data_final)"
   ],
   "outputs": [
    {
     "output_type": "stream",
     "name": "stdout",
     "text": [
      "       folder_id  file_num\n",
      "0  entertainment       386\n",
      "0       business       510\n",
      "0          sport       511\n",
      "0       politics       417\n",
      "0           tech       401\n"
     ]
    }
   ],
   "metadata": {}
  },
  {
   "cell_type": "code",
   "execution_count": 65,
   "source": [
    "x = np.array(data_x)\n",
    "y = np.array(data_y)\n",
    "plt.title(\"Distribution of the instances in each class\")\n",
    "plt.xlabel(\"class name\")\n",
    "plt.ylabel(\"number of instances\")\n",
    "plt.bar(x,y)\n",
    "plt.grid()\n",
    "plt.show()"
   ],
   "outputs": [
    {
     "output_type": "display_data",
     "data": {
      "image/png": "[encoded data removed]",
      "text/plain": [
       "<Figure size 432x288 with 1 Axes>"
      ]
     },
     "metadata": {}
    }
   ],
   "metadata": {}
  },
  {
   "cell_type": "code",
   "execution_count": null,
   "source": [],
   "outputs": [],
   "metadata": {}
  }
 ],
 "metadata": {
  "kernelspec": {
   "name": "python3",
   "display_name": "Python 3.8.8 64-bit ('base': conda)"
  },
  "language_info": {
   "codemirror_mode": {
    "name": "ipython",
    "version": 3
   },
   "file_extension": ".py",
   "mimetype": "text/x-python",
   "name": "python",
   "nbconvert_exporter": "python",
   "pygments_lexer": "ipython3",
   "version": "3.8.8"
  },
  "interpreter": {
   "hash": "f8fce6691405556ffb3062e1861de211962c440fc65c8599586c6206ef07fdf2"
  }
 },
 "nbformat": 4,
 "nbformat_minor": 5
}