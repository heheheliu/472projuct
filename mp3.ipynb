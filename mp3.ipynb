{
 "cells": [
  {
   "cell_type": "code",
   "execution_count": 5,
   "metadata": {},
   "outputs": [
    {
     "name": "stdout",
     "output_type": "stream",
     "text": [
      "Collecting package metadata (current_repodata.json): ...working... done\n",
      "Note: you may need to restart the kernel to use updated packages.\n",
      "Solving environment: ...working... done\n",
      "\n"
     ]
    },
    {
     "name": "stderr",
     "output_type": "stream",
     "text": [
      "\n",
      "\n",
      "==> WARNING: A newer version of conda exists. <==\n",
      "  current version: 4.10.1\n",
      "  latest version: 4.10.3\n",
      "\n",
      "Please update conda by running\n",
      "\n",
      "    $ conda update -n base -c defaults conda\n",
      "\n",
      "\n"
     ]
    },
    {
     "name": "stdout",
     "output_type": "stream",
     "text": [
      "\n",
      "## Package Plan ##\n",
      "\n",
      "  environment location: D:\\anaconda3\n",
      "\n",
      "  added / updated specs:\n",
      "    - gensim\n",
      "\n",
      "\n",
      "The following packages will be downloaded:\n",
      "\n",
      "    package                    |            build\n",
      "    ---------------------------|-----------------\n",
      "    conda-4.11.0               |   py38haa244fe_0        16.9 MB  conda-forge\n",
      "    gensim-4.0.1               |   py38hd77b12b_0        18.2 MB\n",
      "    python_abi-3.8             |           2_cp38           4 KB  conda-forge\n",
      "    smart_open-5.2.1           |     pyhd8ed1ab_0          43 KB  conda-forge\n",
      "    ------------------------------------------------------------\n",
      "                                           Total:        35.1 MB\n",
      "\n",
      "The following NEW packages will be INSTALLED:\n",
      "\n",
      "  gensim             pkgs/main/win-64::gensim-4.0.1-py38hd77b12b_0\n",
      "  python_abi         conda-forge/win-64::python_abi-3.8-2_cp38\n",
      "  smart_open         conda-forge/noarch::smart_open-5.2.1-pyhd8ed1ab_0\n",
      "\n",
      "The following packages will be UPDATED:\n",
      "\n",
      "  conda              pkgs/main::conda-4.10.1-py38haa95532_1 --> conda-forge::conda-4.11.0-py38haa244fe_0\n",
      "\n",
      "\n",
      "\n",
      "Downloading and Extracting Packages\n",
      "\n",
      "smart_open-5.2.1     | 43 KB     |            |   0% \n",
      "smart_open-5.2.1     | 43 KB     | ###7       |  37% \n",
      "smart_open-5.2.1     | 43 KB     | ########## | 100% \n",
      "\n",
      "conda-4.11.0         | 16.9 MB   |            |   0% \n",
      "conda-4.11.0         | 16.9 MB   | 3          |   3% \n",
      "conda-4.11.0         | 16.9 MB   | #1         |  11% \n",
      "conda-4.11.0         | 16.9 MB   | #9         |  19% \n",
      "conda-4.11.0         | 16.9 MB   | ##6        |  27% \n",
      "conda-4.11.0         | 16.9 MB   | ###4       |  35% \n",
      "conda-4.11.0         | 16.9 MB   | ####3      |  43% \n",
      "conda-4.11.0         | 16.9 MB   | #####1     |  51% \n",
      "conda-4.11.0         | 16.9 MB   | #####9     |  59% \n",
      "conda-4.11.0         | 16.9 MB   | ######7    |  67% \n",
      "conda-4.11.0         | 16.9 MB   | #######5   |  75% \n",
      "conda-4.11.0         | 16.9 MB   | ########3  |  83% \n",
      "conda-4.11.0         | 16.9 MB   | #########1 |  91% \n",
      "conda-4.11.0         | 16.9 MB   | #########9 |  99% \n",
      "conda-4.11.0         | 16.9 MB   | ########## | 100% \n",
      "\n",
      "gensim-4.0.1         | 18.2 MB   |            |   0% \n",
      "gensim-4.0.1         | 18.2 MB   |            |   0% \n",
      "gensim-4.0.1         | 18.2 MB   | 1          |   1% \n",
      "gensim-4.0.1         | 18.2 MB   | 3          |   3% \n",
      "gensim-4.0.1         | 18.2 MB   | 4          |   5% \n",
      "gensim-4.0.1         | 18.2 MB   | 6          |   7% \n",
      "gensim-4.0.1         | 18.2 MB   | 9          |   9% \n",
      "gensim-4.0.1         | 18.2 MB   | #1         |  12% \n",
      "gensim-4.0.1         | 18.2 MB   | #5         |  15% \n",
      "gensim-4.0.1         | 18.2 MB   | #8         |  18% \n",
      "gensim-4.0.1         | 18.2 MB   | ##2        |  23% \n",
      "gensim-4.0.1         | 18.2 MB   | ##7        |  28% \n",
      "gensim-4.0.1         | 18.2 MB   | ###3       |  34% \n",
      "gensim-4.0.1         | 18.2 MB   | ####       |  40% \n",
      "gensim-4.0.1         | 18.2 MB   | ####7      |  47% \n",
      "gensim-4.0.1         | 18.2 MB   | #####5     |  55% \n",
      "gensim-4.0.1         | 18.2 MB   | ######2    |  63% \n",
      "gensim-4.0.1         | 18.2 MB   | #######    |  70% \n",
      "gensim-4.0.1         | 18.2 MB   | #######7   |  78% \n",
      "gensim-4.0.1         | 18.2 MB   | ########5  |  85% \n",
      "gensim-4.0.1         | 18.2 MB   | #########2 |  93% \n",
      "gensim-4.0.1         | 18.2 MB   | ########## | 100% \n",
      "gensim-4.0.1         | 18.2 MB   | ########## | 100% \n",
      "\n",
      "python_abi-3.8       | 4 KB      |            |   0% \n",
      "python_abi-3.8       | 4 KB      | ########## | 100% \n",
      "Preparing transaction: ...working... done\n",
      "Verifying transaction: ...working... done\n",
      "Executing transaction: ...working... done\n"
     ]
    }
   ],
   "source": [
    "conda install -c conda-forge gensim\n"
   ]
  },
  {
   "cell_type": "code",
   "execution_count": 7,
   "metadata": {},
   "outputs": [
    {
     "name": "stdout",
     "output_type": "stream",
     "text": [
      "['fasttext-wiki-news-subwords-300', 'conceptnet-numberbatch-17-06-300', 'word2vec-ruscorpora-300', 'word2vec-google-news-300', 'glove-wiki-gigaword-50', 'glove-wiki-gigaword-100', 'glove-wiki-gigaword-200', 'glove-wiki-gigaword-300', 'glove-twitter-25', 'glove-twitter-50', 'glove-twitter-100', 'glove-twitter-200', '__testing_word2vec-matrix-synopsis']\n"
     ]
    }
   ],
   "source": [
    "import gensim.downloader\n",
    "# Show all available models in gensim-data\n",
    "print(list(gensim.downloader.info()['models'].keys()))"
   ]
  },
  {
   "cell_type": "code",
   "execution_count": 8,
   "metadata": {},
   "outputs": [
    {
     "name": "stdout",
     "output_type": "stream",
     "text": [
      "[==================================================] 100.0% 1662.8/1662.8MB downloaded\n"
     ]
    }
   ],
   "source": [
    "word_google=gensim.downloader.load('word2vec-google-news-300')"
   ]
  },
  {
   "cell_type": "code",
   "execution_count": 16,
   "metadata": {},
   "outputs": [
    {
     "name": "stdout",
     "output_type": "stream",
     "text": [
      "[['question', 'answer', '0', '1', '2', '3'], ['enormously', 'tremendously', 'appropriately', 'uniquely', 'tremendously', 'decidedly'], ['provisions', 'stipulations', 'stipulations', 'interrelations', 'jurisdictions', 'interpretations'], ['haphazardly', 'randomly', 'dangerously', 'densely', 'randomly', 'linearly'], ['prominent', 'conspicuous', 'battered', 'ancient', 'mysterious', 'conspicuous'], ['zenith', 'pinnacle', 'completion', 'pinnacle', 'outset', 'decline'], ['flawed', 'imperfect', 'tiny', 'imperfect', 'lustrous', 'crude'], ['urgently', 'desperately', 'typically', 'conceivably', 'tentatively', 'desperately'], ['consumed', 'eaten', 'bred', 'caught', 'eaten', 'supplied'], ['advent', 'coming', 'coming', 'arrest', 'financing', 'stability'], ['concisely', 'succinctly', 'powerfully', 'positively', 'freely', 'succinctly'], ['salutes', 'greetings', 'information', 'ceremonies', 'greetings', 'privileges'], ['solitary', 'alone', 'alert', 'restless', 'alone', 'fearless'], ['hasten', 'accelerate', 'permit', 'determine', 'accelerate', 'accompany'], ['perseverance', 'endurance', 'endurance', 'skill', 'generosity', 'disturbance'], ['fanciful', 'imaginative', 'familiar', 'imaginative', 'apparent', 'logical'], ['showed', 'demonstrated', 'demonstrated', 'published', 'repeated', 'postponed'], ['constantly', 'continually', 'instantly', 'continually', 'rapidly', 'accidentally'], ['issues', 'subjects', 'training', 'salaries', 'subjects', 'benefits'], ['furnish', 'supply', 'supply', 'impress', 'protect', 'advise'], ['costly', 'expensive', 'expensive', 'beautiful', 'popular', 'complicated'], ['recognized', 'acknowledged', 'successful', 'depicted', 'acknowledged', 'welcomed'], ['spot', 'location', 'climate', 'latitude', 'sea', 'location'], ['make', 'earn', 'earn', 'print', 'trade', 'borrow'], ['often', 'frequently', 'definitely', 'frequently', 'chemically', 'hardly'], ['easygoing', 'relaxed', 'frontier', 'boring', 'farming', 'relaxed'], ['debate', 'argument', 'war', 'argument', 'election', 'competition'], ['narrow', 'thin', 'clear', 'freezing', 'thin', 'poisonous'], ['arranged', 'planned', 'planned', 'explained', 'studied', 'discarded'], ['infinite', 'limitless', 'limitless', 'relative', 'unusual', 'structural'], ['showy', 'striking', 'striking', 'prickly', 'entertaining', 'incidental'], ['levied', 'imposed', 'imposed', 'believed', 'requested', 'correlated'], ['deftly', 'skillfully', 'skillfully', 'prudently', 'occasionally', 'humorously'], ['distribute', 'circulate', 'commercialize', 'circulate', 'research', 'acknowledge'], ['discrepancies', 'differences', 'weights', 'deposits', 'wavelengths', 'differences'], ['prolific', 'productive', 'productive', 'serious', 'capable', 'promising'], ['unmatched', 'unequaled', 'unrecognized', 'unequaled', 'alienated', 'emulated'], ['peculiarly', 'uniquely', 'partly', 'uniquely', 'patriotically', 'suspiciously'], ['hue', 'color', 'glare', 'contrast', 'color', 'scent'], ['hind', 'rear', 'curved', 'muscular', 'hairy', 'rear'], ['highlight', 'accentuate', 'alter', 'imitate', 'accentuate', 'restore'], ['hastily', 'hurriedly', 'hurriedly', 'shrewdly', 'habitually', 'chronologically'], ['temperate', 'mild', 'cold', 'mild', 'short', 'windy'], ['grin', 'smile', 'exercise', 'rest', 'joke', 'smile'], ['verbally', 'orally', 'orally', 'overtly', 'fittingly', 'verbosely'], ['physician', 'doctor', 'chemist', 'pharmacist', 'nurse', 'doctor'], ['essentially', 'basically', 'possibly', 'eagerly', 'basically', 'ordinarily'], ['keen', 'sharp', 'useful', 'simple', 'famous', 'sharp'], ['situated', 'positioned', 'rotating', 'isolated', 'emptying', 'positioned'], ['principal', 'major', 'most', 'numerous', 'major', 'exceptional'], ['slowly', 'gradually', 'rarely', 'gradually', 'effectively', 'continuously'], ['built', 'constructed', 'constructed', 'proposed', 'financed', 'organized'], ['tasks', 'jobs', 'customers', 'materials', 'shops', 'jobs'], ['unlikely', 'improbable', 'improbable', 'disagreeable', 'different', 'unpopular'], ['halfheartedly', 'apathetically', 'customarily', 'bipartisanly', 'apathetically', 'unconventionally'], ['annals', 'chronicles', 'homes', 'trails', 'chronicles', 'songs'], ['wildly', 'furiously', 'distinctively', 'mysteriously', 'abruptly', 'furiously'], ['hailed', 'acclaimed', 'judged', 'acclaimed', 'remembered', 'addressed'], ['command', 'mastery', 'observation', 'love', 'awareness', 'mastery'], ['concocted', 'devised', 'devised', 'cleaned', 'requested', 'supervised'], ['prospective', 'potential', 'particular', 'prudent', 'potential', 'prominent'], ['generally', 'broadly', 'descriptively', 'broadly', 'controversially', 'accurately'], ['sustained', 'prolonged', 'prolonged', 'refined', 'lowered', 'analyzed'], ['perilous', 'dangerous', 'binding', 'exciting', 'offensive', 'dangerous'], ['tranquillity', 'peacefulness', 'peacefulness', 'harshness', 'weariness', 'happiness'], ['dissipate', 'disperse', 'disperse', 'isolate', 'disguise', 'photograph'], ['primarily', 'chiefly', 'occasionally', 'cautiously', 'consistently', 'chiefly'], ['colloquial', 'conversational', 'recorded', 'misunderstood', 'incorrect', 'conversational'], ['resolved', 'settled', 'publicized', 'forgotten', 'settled', 'examined'], ['feasible', 'possible', 'permitted', 'possible', 'equitable', 'evident'], ['expeditiously', 'rapidly', 'frequently', 'actually', 'rapidly', 'repeatedly'], ['percentage', 'proportion', 'volume', 'sample', 'proportion', 'profit'], ['terminated', 'ended', 'ended', 'posed', 'postponed', 'evaluated'], ['uniform', 'alike', 'hard', 'complex', 'alike', 'sharp'], ['figure', 'solve', 'list', 'solve', 'divide', 'express'], ['sufficient', 'enough', 'recent', 'physiological', 'enough', 'valuable'], ['fashion', 'manner', 'ration', 'fathom', 'craze', 'manner'], ['marketed', 'sold', 'frozen', 'sold', 'sweetened', 'diluted'], ['bigger', 'larger', 'steadier', 'closer', 'larger', 'better'], ['roots', 'origins', 'origins', 'rituals', 'cure', 'function'], ['normally', 'ordinarily', 'haltingly', 'ordinarily', 'permanently', 'periodically']]\n"
     ]
    }
   ],
   "source": [
    "import csv\n",
    "with open('synonyms.csv','r') as synonyms_file:\n",
    "    read=csv.reader(synonyms_file)\n",
    "    read_file=list(read)\n",
    "    print(read_file)"
   ]
  },
  {
   "cell_type": "code",
   "execution_count": 18,
   "metadata": {},
   "outputs": [],
   "source": [
    "from csv import reader\n",
    "\n",
    "analysis = []\n",
    "correct = 0\n",
    "guessed = 0\n",
    "with open(\"synonyms.csv\", \"r\") as f:\n",
    "    read = reader(f)\n",
    "    reader = list(read)\n",
    "    for i in range(1,len(reader)):\n",
    "        max_similarity = 0\n",
    "        guess = reader[i][2]\n",
    "        label = \"correct\"\n",
    "        if reader[i][0] in word_google and ( reader[i][2] in word_google or reader[i][3] in word_google or reader[i][4] in word_google or reader[i][5] in word_google):\n",
    "            label = \"correct\"\n",
    "            correct += 1\n",
    "        else:\n",
    "            label = \"guess\"\n",
    "            guessed += 1\n",
    "        for j in range(2,len(reader[i])):\n",
    "            try:\n",
    "                if max_similarity < word_google.similarity(reader[i][0], reader[i][j]):\n",
    "                    guess = reader[i][j]\n",
    "                    max_similarity = word_google.similarity(reader[i][0], reader[i][j])\n",
    "            except:\n",
    "                pass\n",
    "        if (label !=\"guess\" and guess != reader[i][1]):\n",
    "            label = \"wrong\"\n",
    "            correct -= 1\n",
    "        analysis.append([reader[i][0]+\",\"+reader[i][1]+\",\"+guess+\",\"+label])\n",
    "        \n",
    "with open(\"word2vec-google-news-300-details.csv\", 'w', newline='') as myfile:\n",
    "     wr = csv.writer(myfile)\n",
    "     wr.writerows(analysis)\n"
   ]
  },
  {
   "cell_type": "code",
   "execution_count": null,
   "metadata": {},
   "outputs": [],
   "source": [
    "corpus = len(word_google)\n",
    "accuracy = correct/(80-guessed)\n",
    "total = 80-guessed\n",
    "row = \"word2vec-google-news-300\"+\",\"+str(corpus)+\",\"+str(correct)+\",\"+str(total)+\",\"+str(accuracy)\n",
    "with open(\"analysis.csv\", 'w', newline='') as analysisfile:\n",
    "     wr = csv.writer(analysisfile)\n",
    "     wr.writerows([[row]])"
   ]
  }
 ],
 "metadata": {
  "interpreter": {
   "hash": "7b4b4feff2f24a0f0a34464dbe537a36fda679851528fb8735cb41fa49dffb2d"
  },
  "kernelspec": {
   "display_name": "Python 3.8.8 64-bit ('base': conda)",
   "name": "python3"
  },
  "language_info": {
   "codemirror_mode": {
    "name": "ipython",
    "version": 3
   },
   "file_extension": ".py",
   "mimetype": "text/x-python",
   "name": "python",
   "nbconvert_exporter": "python",
   "pygments_lexer": "ipython3",
   "version": "3.8.8"
  },
  "orig_nbformat": 4
 },
 "nbformat": 4,
 "nbformat_minor": 2
}
