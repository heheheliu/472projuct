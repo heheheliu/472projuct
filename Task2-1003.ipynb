{
 "cells": [
  {
   "cell_type": "markdown",
   "metadata": {},
   "source": [
    "# Task 2:Drug Classification"
   ]
  },
  {
   "cell_type": "code",
   "execution_count": 3,
   "metadata": {},
   "outputs": [],
   "source": [
    "\n",
    "#import realated library\n",
    "import numpy as np\n",
    "import pandas as pd\n",
    "import seaborn as sns\n",
    "import matplotlib.pyplot as plt"
   ]
  },
  {
   "cell_type": "code",
   "execution_count": 4,
   "metadata": {},
   "outputs": [],
   "source": [
    "#2. Load the dataset use pandas.read_csv\n",
    "ds = pd.read_csv(\"drug200.csv\")"
   ]
  },
  {
   "cell_type": "code",
   "execution_count": 5,
   "metadata": {},
   "outputs": [
    {
     "name": "stdout",
     "output_type": "stream",
     "text": [
      "     Age Sex      BP Cholesterol  Na_to_K   Drug\n",
      "0     23   F    HIGH        HIGH   25.355  drugY\n",
      "1     47   M     LOW        HIGH   13.093  drugC\n",
      "2     47   M     LOW        HIGH   10.114  drugC\n",
      "3     28   F  NORMAL        HIGH    7.798  drugX\n",
      "4     61   F     LOW        HIGH   18.043  drugY\n",
      "..   ...  ..     ...         ...      ...    ...\n",
      "195   56   F     LOW        HIGH   11.567  drugC\n",
      "196   16   M     LOW        HIGH   12.006  drugC\n",
      "197   52   M  NORMAL        HIGH    9.894  drugX\n",
      "198   23   M  NORMAL      NORMAL   14.020  drugX\n",
      "199   40   F     LOW      NORMAL   11.349  drugX\n",
      "\n",
      "[200 rows x 6 columns]\n"
     ]
    }
   ],
   "source": [
    "print(ds)"
   ]
  },
  {
   "cell_type": "code",
   "execution_count": 6,
   "metadata": {},
   "outputs": [
    {
     "name": "stdout",
     "output_type": "stream",
     "text": [
      "SHAPE OF DATASET:  (200, 6) \n",
      "\n",
      "COLUMNS IN DATASET:  Index(['Age', 'Sex', 'BP', 'Cholesterol', 'Na_to_K', 'Drug'], dtype='object') \n",
      "\n",
      "Drug ClASS IN DATASET:  ['drugY' 'drugC' 'drugX' 'drugA' 'drugB']\n"
     ]
    }
   ],
   "source": [
    "#3 Plot the distribution of the instances in each class and store the graphic in a file calles drug-distribution.pdf\n",
    "# Description of the dataset\n",
    "import seaborn as sns\n",
    "print('SHAPE OF DATASET: ', ds.shape, '\\n\\nCOLUMNS IN DATASET: ', ds.columns,'\\n\\nDrug ClASS IN DATASET: ',ds.Drug.unique(),)"
   ]
  },
  {
   "cell_type": "code",
   "execution_count": 7,
   "metadata": {},
   "outputs": [
    {
     "data": {
      "image/png": "[encoded data removed]",
      "text/plain": [
       "<Figure size 432x288 with 1 Axes>"
      ]
     },
     "metadata": {
      "needs_background": "light"
     },
     "output_type": "display_data"
    }
   ],
   "source": [
    "#first count each class then print bar graph\n",
    "counts = ds[\"Drug\"].value_counts()\n",
    "plt.title(\"drug-distribution graph\")\n",
    "plt.xlabel('Drug Class')\n",
    "plt.ylabel(\"Count\")\n",
    "plt.bar(ds.Drug.unique(), counts)\n",
    "# Plotting number of samples within each category\n",
    "\n",
    "plt.savefig('BBC-Distribution.pdf', dpi=100)\n",
    "\n",
    "plt.show()\n",
    "\n"
   ]
  },
  {
   "cell_type": "code",
   "execution_count": 8,
   "metadata": {},
   "outputs": [
    {
     "name": "stdout",
     "output_type": "stream",
     "text": [
      "Drug\n",
      "drugA    23\n",
      "drugB    16\n",
      "drugC    16\n",
      "drugX    54\n",
      "drugY    91\n",
      "Name: Drug, dtype: int64\n"
     ]
    }
   ],
   "source": [
    "#Grouping and perform count over each drug class\n",
    "num =  ds.groupby('Drug')['Drug'].count()\n",
    "print(num)"
   ]
  },
  {
   "cell_type": "markdown",
   "metadata": {},
   "source": [
    "#Replacing categorical values of Sex column by dummy variables (Because it is independent category i.e. No one is higher or lower)"
   ]
  },
  {
   "cell_type": "code",
   "execution_count": 9,
   "metadata": {},
   "outputs": [],
   "source": [
    "#use dummies\n",
    "dummy_variable_sex = pd.get_dummies(ds[\"Sex\"])\n",
    "# Concatenate\n",
    "data = pd.concat([ds, dummy_variable_sex], axis=1)\n",
    "# Drop sex column\n",
    "data.drop(\"Sex\", axis = 1, inplace=True)"
   ]
  },
  {
   "cell_type": "code",
   "execution_count": 10,
   "metadata": {},
   "outputs": [
    {
     "data": {
      "text/html": [
       "<div>\n",
       "<style scoped>\n",
       "    .dataframe tbody tr th:only-of-type {\n",
       "        vertical-align: middle;\n",
       "    }\n",
       "\n",
       "    .dataframe tbody tr th {\n",
       "        vertical-align: top;\n",
       "    }\n",
       "\n",
       "    .dataframe thead th {\n",
       "        text-align: right;\n",
       "    }\n",
       "</style>\n",
       "<table border=\"1\" class=\"dataframe\">\n",
       "  <thead>\n",
       "    <tr style=\"text-align: right;\">\n",
       "      <th></th>\n",
       "      <th>Age</th>\n",
       "      <th>BP</th>\n",
       "      <th>Cholesterol</th>\n",
       "      <th>Na_to_K</th>\n",
       "      <th>Drug</th>\n",
       "      <th>F</th>\n",
       "      <th>M</th>\n",
       "    </tr>\n",
       "  </thead>\n",
       "  <tbody>\n",
       "    <tr>\n",
       "      <th>0</th>\n",
       "      <td>23</td>\n",
       "      <td>HIGH</td>\n",
       "      <td>HIGH</td>\n",
       "      <td>25.355</td>\n",
       "      <td>drugY</td>\n",
       "      <td>1</td>\n",
       "      <td>0</td>\n",
       "    </tr>\n",
       "    <tr>\n",
       "      <th>1</th>\n",
       "      <td>47</td>\n",
       "      <td>LOW</td>\n",
       "      <td>HIGH</td>\n",
       "      <td>13.093</td>\n",
       "      <td>drugC</td>\n",
       "      <td>0</td>\n",
       "      <td>1</td>\n",
       "    </tr>\n",
       "    <tr>\n",
       "      <th>2</th>\n",
       "      <td>47</td>\n",
       "      <td>LOW</td>\n",
       "      <td>HIGH</td>\n",
       "      <td>10.114</td>\n",
       "      <td>drugC</td>\n",
       "      <td>0</td>\n",
       "      <td>1</td>\n",
       "    </tr>\n",
       "    <tr>\n",
       "      <th>3</th>\n",
       "      <td>28</td>\n",
       "      <td>NORMAL</td>\n",
       "      <td>HIGH</td>\n",
       "      <td>7.798</td>\n",
       "      <td>drugX</td>\n",
       "      <td>1</td>\n",
       "      <td>0</td>\n",
       "    </tr>\n",
       "    <tr>\n",
       "      <th>4</th>\n",
       "      <td>61</td>\n",
       "      <td>LOW</td>\n",
       "      <td>HIGH</td>\n",
       "      <td>18.043</td>\n",
       "      <td>drugY</td>\n",
       "      <td>1</td>\n",
       "      <td>0</td>\n",
       "    </tr>\n",
       "    <tr>\n",
       "      <th>...</th>\n",
       "      <td>...</td>\n",
       "      <td>...</td>\n",
       "      <td>...</td>\n",
       "      <td>...</td>\n",
       "      <td>...</td>\n",
       "      <td>...</td>\n",
       "      <td>...</td>\n",
       "    </tr>\n",
       "    <tr>\n",
       "      <th>195</th>\n",
       "      <td>56</td>\n",
       "      <td>LOW</td>\n",
       "      <td>HIGH</td>\n",
       "      <td>11.567</td>\n",
       "      <td>drugC</td>\n",
       "      <td>1</td>\n",
       "      <td>0</td>\n",
       "    </tr>\n",
       "    <tr>\n",
       "      <th>196</th>\n",
       "      <td>16</td>\n",
       "      <td>LOW</td>\n",
       "      <td>HIGH</td>\n",
       "      <td>12.006</td>\n",
       "      <td>drugC</td>\n",
       "      <td>0</td>\n",
       "      <td>1</td>\n",
       "    </tr>\n",
       "    <tr>\n",
       "      <th>197</th>\n",
       "      <td>52</td>\n",
       "      <td>NORMAL</td>\n",
       "      <td>HIGH</td>\n",
       "      <td>9.894</td>\n",
       "      <td>drugX</td>\n",
       "      <td>0</td>\n",
       "      <td>1</td>\n",
       "    </tr>\n",
       "    <tr>\n",
       "      <th>198</th>\n",
       "      <td>23</td>\n",
       "      <td>NORMAL</td>\n",
       "      <td>NORMAL</td>\n",
       "      <td>14.020</td>\n",
       "      <td>drugX</td>\n",
       "      <td>0</td>\n",
       "      <td>1</td>\n",
       "    </tr>\n",
       "    <tr>\n",
       "      <th>199</th>\n",
       "      <td>40</td>\n",
       "      <td>LOW</td>\n",
       "      <td>NORMAL</td>\n",
       "      <td>11.349</td>\n",
       "      <td>drugX</td>\n",
       "      <td>1</td>\n",
       "      <td>0</td>\n",
       "    </tr>\n",
       "  </tbody>\n",
       "</table>\n",
       "<p>200 rows × 7 columns</p>\n",
       "</div>"
      ],
      "text/plain": [
       "     Age      BP Cholesterol  Na_to_K   Drug  F  M\n",
       "0     23    HIGH        HIGH   25.355  drugY  1  0\n",
       "1     47     LOW        HIGH   13.093  drugC  0  1\n",
       "2     47     LOW        HIGH   10.114  drugC  0  1\n",
       "3     28  NORMAL        HIGH    7.798  drugX  1  0\n",
       "4     61     LOW        HIGH   18.043  drugY  1  0\n",
       "..   ...     ...         ...      ...    ... .. ..\n",
       "195   56     LOW        HIGH   11.567  drugC  1  0\n",
       "196   16     LOW        HIGH   12.006  drugC  0  1\n",
       "197   52  NORMAL        HIGH    9.894  drugX  0  1\n",
       "198   23  NORMAL      NORMAL   14.020  drugX  0  1\n",
       "199   40     LOW      NORMAL   11.349  drugX  1  0\n",
       "\n",
       "[200 rows x 7 columns]"
      ]
     },
     "execution_count": 10,
     "metadata": {},
     "output_type": "execute_result"
    }
   ],
   "source": [
    "data"
   ]
  },
  {
   "cell_type": "code",
   "execution_count": 11,
   "metadata": {},
   "outputs": [
    {
     "data": {
      "text/plain": [
       "array(['drugY', 'drugC', 'drugC', 'drugX', 'drugY', 'drugX', 'drugY',\n",
       "       'drugC', 'drugY', 'drugY', 'drugC', 'drugY', 'drugY', 'drugY',\n",
       "       'drugX', 'drugY', 'drugX', 'drugA', 'drugC', 'drugY', 'drugY',\n",
       "       'drugY', 'drugY', 'drugY', 'drugY', 'drugY', 'drugY', 'drugX',\n",
       "       'drugY', 'drugY', 'drugX', 'drugB', 'drugX', 'drugY', 'drugX',\n",
       "       'drugX', 'drugA', 'drugX', 'drugX', 'drugX', 'drugY', 'drugB',\n",
       "       'drugY', 'drugX', 'drugX', 'drugX', 'drugA', 'drugC', 'drugY',\n",
       "       'drugY', 'drugY', 'drugX', 'drugY', 'drugY', 'drugB', 'drugC',\n",
       "       'drugB', 'drugY', 'drugX', 'drugY', 'drugY', 'drugA', 'drugY',\n",
       "       'drugX', 'drugB', 'drugY', 'drugA', 'drugX', 'drugY', 'drugY',\n",
       "       'drugB', 'drugY', 'drugX', 'drugY', 'drugY', 'drugY', 'drugA',\n",
       "       'drugY', 'drugA', 'drugX', 'drugB', 'drugX', 'drugC', 'drugA',\n",
       "       'drugC', 'drugB', 'drugX', 'drugY', 'drugY', 'drugY', 'drugY',\n",
       "       'drugY', 'drugY', 'drugY', 'drugY', 'drugX', 'drugY', 'drugY',\n",
       "       'drugY', 'drugY', 'drugA', 'drugA', 'drugC', 'drugX', 'drugY',\n",
       "       'drugX', 'drugX', 'drugY', 'drugB', 'drugY', 'drugA', 'drugX',\n",
       "       'drugX', 'drugX', 'drugX', 'drugY', 'drugX', 'drugX', 'drugA',\n",
       "       'drugY', 'drugY', 'drugY', 'drugY', 'drugY', 'drugB', 'drugY',\n",
       "       'drugY', 'drugX', 'drugY', 'drugX', 'drugY', 'drugY', 'drugX',\n",
       "       'drugY', 'drugY', 'drugX', 'drugB', 'drugA', 'drugB', 'drugX',\n",
       "       'drugA', 'drugY', 'drugB', 'drugY', 'drugA', 'drugX', 'drugX',\n",
       "       'drugA', 'drugX', 'drugC', 'drugA', 'drugB', 'drugX', 'drugX',\n",
       "       'drugY', 'drugC', 'drugA', 'drugY', 'drugC', 'drugX', 'drugX',\n",
       "       'drugB', 'drugX', 'drugY', 'drugY', 'drugY', 'drugY', 'drugX',\n",
       "       'drugY', 'drugA', 'drugX', 'drugX', 'drugY', 'drugY', 'drugA',\n",
       "       'drugY', 'drugA', 'drugY', 'drugY', 'drugY', 'drugY', 'drugX',\n",
       "       'drugX', 'drugY', 'drugY', 'drugY', 'drugB', 'drugA', 'drugY',\n",
       "       'drugY', 'drugY', 'drugA', 'drugY', 'drugC', 'drugY', 'drugC',\n",
       "       'drugC', 'drugX', 'drugX', 'drugX'], dtype=object)"
      ]
     },
     "execution_count": 11,
     "metadata": {},
     "output_type": "execute_result"
    }
   ],
   "source": [
    "#Extracting target variable \n",
    "y = data.iloc[:, -3].values#take colomn\n",
    "y"
   ]
  },
  {
   "cell_type": "code",
   "execution_count": 12,
   "metadata": {},
   "outputs": [],
   "source": [
    "# Dropping Drug column\n",
    "dataset = data.drop(\"Drug\", axis = 1, inplace=False)"
   ]
  },
  {
   "cell_type": "code",
   "execution_count": 13,
   "metadata": {},
   "outputs": [
    {
     "name": "stdout",
     "output_type": "stream",
     "text": [
      "     Age      BP Cholesterol  Na_to_K  F  M\n",
      "0     23    HIGH        HIGH   25.355  1  0\n",
      "1     47     LOW        HIGH   13.093  0  1\n",
      "2     47     LOW        HIGH   10.114  0  1\n",
      "3     28  NORMAL        HIGH    7.798  1  0\n",
      "4     61     LOW        HIGH   18.043  1  0\n",
      "..   ...     ...         ...      ... .. ..\n",
      "195   56     LOW        HIGH   11.567  1  0\n",
      "196   16     LOW        HIGH   12.006  0  1\n",
      "197   52  NORMAL        HIGH    9.894  0  1\n",
      "198   23  NORMAL      NORMAL   14.020  0  1\n",
      "199   40     LOW      NORMAL   11.349  1  0\n",
      "\n",
      "[200 rows x 6 columns]\n"
     ]
    }
   ],
   "source": [
    "print(dataset)"
   ]
  },
  {
   "cell_type": "markdown",
   "metadata": {},
   "source": [
    "#Replacing categorical values of BP and Cholesterol column by Label encoder (Because this is dependent ie higher and lower)"
   ]
  },
  {
   "cell_type": "code",
   "execution_count": 14,
   "metadata": {},
   "outputs": [
    {
     "data": {
      "text/plain": [
       "array([[23, 'HIGH', 'HIGH', 25.355, 1, 0],\n",
       "       [47, 'LOW', 'HIGH', 13.093, 0, 1],\n",
       "       [47, 'LOW', 'HIGH', 10.113999999999999, 0, 1],\n",
       "       ...,\n",
       "       [52, 'NORMAL', 'HIGH', 9.894, 0, 1],\n",
       "       [23, 'NORMAL', 'NORMAL', 14.02, 0, 1],\n",
       "       [40, 'LOW', 'NORMAL', 11.349, 1, 0]], dtype=object)"
      ]
     },
     "execution_count": 14,
     "metadata": {},
     "output_type": "execute_result"
    }
   ],
   "source": [
    "# Converting dataframe into arrays\n",
    "dataset_array = dataset.values\n",
    "dataset_array"
   ]
  },
  {
   "cell_type": "code",
   "execution_count": 15,
   "metadata": {},
   "outputs": [
    {
     "data": {
      "text/plain": [
       "array([[23, 0, 'HIGH', 25.355, 1, 0],\n",
       "       [47, 1, 'HIGH', 13.093, 0, 1],\n",
       "       [47, 1, 'HIGH', 10.113999999999999, 0, 1],\n",
       "       ...,\n",
       "       [52, 2, 'HIGH', 9.894, 0, 1],\n",
       "       [23, 2, 'NORMAL', 14.02, 0, 1],\n",
       "       [40, 1, 'NORMAL', 11.349, 1, 0]], dtype=object)"
      ]
     },
     "execution_count": 15,
     "metadata": {},
     "output_type": "execute_result"
    }
   ],
   "source": [
    "# Using sklearn library's LabelEncoder class\n",
    "from sklearn.preprocessing import LabelEncoder\n",
    "le_BP = LabelEncoder()\n",
    "le_BP.fit([ 'LOW', 'NORMAL', 'HIGH'])\n",
    "dataset_array[:,1] = le_BP.transform(dataset_array[:,1])\n",
    "dataset_array"
   ]
  },
  {
   "cell_type": "code",
   "execution_count": 16,
   "metadata": {},
   "outputs": [],
   "source": [
    "# Using sklearn library's LabelEncoder class\n",
    "from sklearn.preprocessing import LabelEncoder\n",
    "le_Chole = LabelEncoder()\n",
    "le_Chole.fit([ 'LOW', 'NORMAL', 'HIGH'])\n",
    "dataset_array[:,2] = le_Chole.transform(dataset_array[:,2])\n",
    "X = dataset_array"
   ]
  },
  {
   "cell_type": "code",
   "execution_count": 17,
   "metadata": {},
   "outputs": [
    {
     "data": {
      "text/plain": [
       "array([[23, 0, 0, 25.355, 1, 0],\n",
       "       [47, 1, 0, 13.093, 0, 1],\n",
       "       [47, 1, 0, 10.113999999999999, 0, 1],\n",
       "       ...,\n",
       "       [52, 2, 0, 9.894, 0, 1],\n",
       "       [23, 2, 2, 14.02, 0, 1],\n",
       "       [40, 1, 2, 11.349, 1, 0]], dtype=object)"
      ]
     },
     "execution_count": 17,
     "metadata": {},
     "output_type": "execute_result"
    }
   ],
   "source": [
    "X"
   ]
  },
  {
   "cell_type": "markdown",
   "metadata": {},
   "source": [
    "#NB:a Gaussian Naive Bayes Classifier (naivebayes.GaussianNB) with the default parameters."
   ]
  },
  {
   "cell_type": "markdown",
   "metadata": {},
   "source": [
    "#Splitting the dataset into the Train set and Test set"
   ]
  },
  {
   "cell_type": "code",
   "execution_count": 18,
   "metadata": {},
   "outputs": [],
   "source": [
    "from sklearn.model_selection import train_test_split\n",
    "X_train, X_test, y_train, y_test = train_test_split(X, y, test_size=None, train_size=None, random_state=None, shuffle=True, stratify=None)"
   ]
  },
  {
   "cell_type": "code",
   "execution_count": 19,
   "metadata": {},
   "outputs": [
    {
     "name": "stdout",
     "output_type": "stream",
     "text": [
      "[[39 0 0 9.664 0 1]\n",
      " [23 0 0 25.355 1 0]\n",
      " [18 0 2 24.276 1 0]\n",
      " [69 1 0 15.478 0 1]\n",
      " [45 1 2 8.37 0 1]\n",
      " [47 1 0 10.113999999999999 0 1]\n",
      " [70 0 0 9.849 0 1]\n",
      " [56 1 0 11.567 1 0]\n",
      " [31 0 2 17.069000000000003 0 1]\n",
      " [47 1 2 30.568 0 1]\n",
      " [69 2 0 10.065 1 0]\n",
      " [39 2 2 9.709 1 0]\n",
      " [28 2 0 7.797999999999999 1 0]\n",
      " [52 2 0 9.894 0 1]\n",
      " [59 2 0 13.884 1 0]\n",
      " [74 1 2 11.939 0 1]\n",
      " [60 2 0 15.171 0 1]\n",
      " [37 1 2 16.724 0 1]\n",
      " [65 0 2 11.34 0 1]\n",
      " [68 0 2 10.189 1 0]\n",
      " [45 1 0 17.951 0 1]\n",
      " [49 1 0 10.537 0 1]\n",
      " [32 0 2 25.974 1 0]\n",
      " [60 0 2 8.621 0 1]\n",
      " [49 0 2 6.269 0 1]\n",
      " [41 0 2 15.155999999999999 0 1]\n",
      " [61 1 2 7.34 1 0]\n",
      " [32 2 0 7.477 1 0]\n",
      " [21 0 2 28.631999999999998 1 0]\n",
      " [15 0 2 17.206 0 1]\n",
      " [28 2 0 19.675 1 0]\n",
      " [22 0 2 28.294 0 1]\n",
      " [34 0 2 19.199 1 0]\n",
      " [38 1 0 18.295 0 1]\n",
      " [23 2 0 31.686 0 1]\n",
      " [36 1 2 11.424000000000001 0 1]\n",
      " [49 1 2 11.014000000000001 0 1]\n",
      " [34 0 0 18.703 0 1]\n",
      " [46 2 2 7.285 0 1]\n",
      " [55 0 0 10.977 1 0]\n",
      " [26 0 2 19.160999999999998 1 0]\n",
      " [36 0 2 15.49 1 0]\n",
      " [47 1 0 10.067 1 0]\n",
      " [29 0 0 29.45 1 0]\n",
      " [32 0 2 10.292 1 0]\n",
      " [22 2 0 11.953 0 1]\n",
      " [43 2 2 12.859000000000002 0 1]\n",
      " [50 2 2 15.79 0 1]\n",
      " [73 0 0 18.348 1 0]\n",
      " [34 1 2 12.923 1 0]\n",
      " [53 0 2 12.495 1 0]\n",
      " [72 0 2 9.677 0 1]\n",
      " [59 1 0 10.444 1 0]\n",
      " [72 1 0 16.31 0 1]\n",
      " [36 2 0 16.753 1 0]\n",
      " [52 1 2 32.922 0 1]\n",
      " [58 0 2 14.239 1 0]\n",
      " [20 2 2 9.281 1 0]\n",
      " [57 0 2 9.945 1 0]\n",
      " [51 1 2 23.003 1 0]\n",
      " [36 0 0 11.198 1 0]\n",
      " [62 1 2 27.183000000000003 0 1]\n",
      " [46 0 0 34.686 1 0]\n",
      " [39 1 2 13.937999999999999 0 1]\n",
      " [15 0 2 16.725 1 0]\n",
      " [72 1 0 6.769 0 1]\n",
      " [45 1 2 10.017000000000001 0 1]\n",
      " [62 2 0 16.594 0 1]\n",
      " [72 1 2 14.642000000000001 1 0]\n",
      " [38 0 2 11.325999999999999 1 0]\n",
      " [28 1 0 19.796 1 0]\n",
      " [22 2 0 8.607000000000001 1 0]\n",
      " [68 1 0 10.290999999999999 0 1]\n",
      " [49 2 2 9.381 1 0]\n",
      " [47 2 2 6.683 1 0]\n",
      " [49 0 2 8.7 0 1]\n",
      " [40 1 2 11.349 1 0]\n",
      " [43 1 2 19.368 0 1]\n",
      " [23 2 0 12.26 0 1]\n",
      " [50 2 2 17.211 1 0]\n",
      " [70 2 0 20.489 1 0]\n",
      " [28 2 0 12.879000000000001 1 0]\n",
      " [58 1 0 26.645 1 0]\n",
      " [65 1 2 13.769 1 0]\n",
      " [56 1 0 15.015 0 1]\n",
      " [67 2 2 10.898 0 1]\n",
      " [18 0 0 37.188 1 0]\n",
      " [66 2 2 8.107000000000001 1 0]\n",
      " [16 1 0 12.005999999999998 0 1]\n",
      " [69 1 2 11.455 0 1]\n",
      " [50 0 0 7.49 0 1]\n",
      " [32 1 0 9.712 1 0]\n",
      " [22 1 0 8.151 0 1]\n",
      " [74 1 0 20.941999999999997 1 0]\n",
      " [57 2 2 25.893 1 0]\n",
      " [31 0 2 11.870999999999999 0 1]\n",
      " [24 0 2 18.457 1 0]\n",
      " [39 2 2 17.225 1 0]\n",
      " [54 2 0 24.658 0 1]\n",
      " [18 2 2 8.75 1 0]\n",
      " [49 2 0 16.275 1 0]\n",
      " [42 1 0 20.012999999999998 0 1]\n",
      " [40 0 0 27.826 0 1]\n",
      " [42 0 2 12.765999999999998 0 1]\n",
      " [57 2 0 14.216 1 0]\n",
      " [19 0 0 13.312999999999999 1 0]\n",
      " [24 2 0 10.605 1 0]\n",
      " [63 2 0 25.916999999999998 0 1]\n",
      " [41 1 2 18.739 1 0]\n",
      " [48 0 2 10.446 0 1]\n",
      " [24 0 2 9.475 0 1]\n",
      " [61 1 0 18.043 1 0]\n",
      " [42 1 2 29.271 1 0]\n",
      " [64 0 2 20.932 0 1]\n",
      " [65 0 2 34.997 0 1]\n",
      " [47 1 0 13.093 0 1]\n",
      " [53 2 0 14.133 0 1]\n",
      " [20 0 0 11.262 1 0]\n",
      " [16 0 2 15.515999999999998 1 0]\n",
      " [40 2 0 10.103 1 0]\n",
      " [58 1 0 38.247 1 0]\n",
      " [25 2 0 19.011 0 1]\n",
      " [20 1 2 11.686 1 0]\n",
      " [64 1 2 25.741 1 0]\n",
      " [33 1 0 33.486 1 0]\n",
      " [41 2 2 22.905 1 0]\n",
      " [16 0 2 19.007 0 1]\n",
      " [51 0 0 18.295 0 1]\n",
      " [65 0 2 31.875999999999998 1 0]\n",
      " [47 1 2 33.542 0 1]\n",
      " [28 1 0 13.127 1 0]\n",
      " [43 1 0 15.376 0 1]\n",
      " [15 2 0 9.084 0 1]\n",
      " [55 2 2 7.261 0 1]\n",
      " [47 1 0 11.767000000000001 1 0]\n",
      " [66 0 0 16.347 0 1]\n",
      " [41 1 0 11.037 0 1]\n",
      " [23 2 2 14.02 0 1]\n",
      " [68 2 2 27.05 1 0]\n",
      " [51 2 0 13.597000000000001 1 0]\n",
      " [37 1 2 8.968 0 1]\n",
      " [19 0 2 25.969 1 0]\n",
      " [37 0 0 13.091 1 0]\n",
      " [43 0 0 13.972000000000001 0 1]\n",
      " [60 2 2 10.091000000000001 0 1]\n",
      " [57 1 2 19.128 0 1]\n",
      " [64 2 0 7.761 0 1]\n",
      " [37 0 2 23.090999999999998 1 0]\n",
      " [48 1 0 15.036 1 0]\n",
      " [47 0 0 10.402999999999999 0 1]]\n"
     ]
    }
   ],
   "source": [
    "print(X_train)"
   ]
  },
  {
   "cell_type": "code",
   "execution_count": 20,
   "metadata": {},
   "outputs": [
    {
     "name": "stdout",
     "output_type": "stream",
     "text": [
      "[[26 1 2 20.909000000000002 0 1]\n",
      " [30 2 0 10.443 1 0]\n",
      " [58 0 0 19.416 1 0]\n",
      " [29 0 0 12.856 0 1]\n",
      " [28 0 2 18.809 1 0]\n",
      " [70 0 0 13.967 0 1]\n",
      " [31 0 0 30.366 0 1]\n",
      " [68 0 0 11.009 0 1]\n",
      " [74 0 0 9.567 0 1]\n",
      " [74 0 2 15.436 0 1]\n",
      " [32 1 2 10.84 1 0]\n",
      " [58 0 0 18.991 0 1]\n",
      " [23 0 0 8.011000000000001 0 1]\n",
      " [35 0 0 12.894 1 0]\n",
      " [37 1 2 12.005999999999998 1 0]\n",
      " [23 2 0 16.85 0 1]\n",
      " [32 0 2 9.445 0 1]\n",
      " [35 2 2 7.845 0 1]\n",
      " [26 1 0 14.16 1 0]\n",
      " [53 1 0 22.963 0 1]\n",
      " [39 1 2 22.697 1 0]\n",
      " [56 0 0 25.395 1 0]\n",
      " [50 2 0 12.703 1 0]\n",
      " [49 1 2 13.597999999999999 0 1]\n",
      " [60 0 0 13.934000000000001 0 1]\n",
      " [60 0 0 13.302999999999999 1 0]\n",
      " [67 2 2 9.514 0 1]\n",
      " [28 2 0 27.064 0 1]\n",
      " [50 2 2 12.295 1 0]\n",
      " [73 2 0 19.221 1 0]\n",
      " [59 0 0 13.935 0 1]\n",
      " [23 1 0 7.297999999999999 0 1]\n",
      " [67 2 0 15.890999999999998 1 0]\n",
      " [45 0 0 12.854000000000001 1 0]\n",
      " [35 1 2 9.17 0 1]\n",
      " [24 2 0 25.785999999999998 0 1]\n",
      " [31 0 2 11.227 0 1]\n",
      " [17 2 2 10.832 0 1]\n",
      " [38 1 2 29.875 1 0]\n",
      " [51 0 2 11.343 0 1]\n",
      " [22 0 2 22.818 1 0]\n",
      " [39 2 0 15.969000000000001 0 1]\n",
      " [67 1 2 20.693 0 1]\n",
      " [26 0 2 12.307 1 0]\n",
      " [61 2 0 9.443 0 1]\n",
      " [56 2 0 8.966000000000001 0 1]\n",
      " [42 0 0 21.035999999999998 1 0]\n",
      " [61 0 0 25.475 1 0]\n",
      " [20 0 2 35.639 0 1]\n",
      " [34 2 0 22.456 0 1]]\n"
     ]
    }
   ],
   "source": [
    "print(X_test)"
   ]
  },
  {
   "cell_type": "code",
   "execution_count": 21,
   "metadata": {},
   "outputs": [
    {
     "name": "stdout",
     "output_type": "stream",
     "text": [
      "['drugY' 'drugX' 'drugY' 'drugA' 'drugY' 'drugB' 'drugY' 'drugB' 'drugB'\n",
      " 'drugY' 'drugX' 'drugY' 'drugA' 'drugA' 'drugX' 'drugY' 'drugA' 'drugX'\n",
      " 'drugC' 'drugY' 'drugY' 'drugY' 'drugX' 'drugX' 'drugB' 'drugB' 'drugX'\n",
      " 'drugY' 'drugX' 'drugY' 'drugB' 'drugC' 'drugY' 'drugA' 'drugX' 'drugY'\n",
      " 'drugA' 'drugX' 'drugY' 'drugB' 'drugY' 'drugY' 'drugY' 'drugA' 'drugX'\n",
      " 'drugX' 'drugY' 'drugY' 'drugY' 'drugY']\n"
     ]
    }
   ],
   "source": [
    "print(y_test)"
   ]
  },
  {
   "cell_type": "markdown",
   "metadata": {},
   "source": [
    "#naivebayes.GaussianNB"
   ]
  },
  {
   "cell_type": "code",
   "execution_count": 28,
   "metadata": {},
   "outputs": [],
   "source": [
    "\n",
    "f=open('drugs-performance.txt','w')"
   ]
  },
  {
   "cell_type": "code",
   "execution_count": 29,
   "metadata": {},
   "outputs": [],
   "source": [
    "# GaussianNB Naive Bayes\n",
    "print(\"--------------------------------GaussianNB default values-----------------------------------\", file=f)\n",
    "from sklearn.naive_bayes import GaussianNB\n",
    "#Create a Gaussian Classifier\n",
    "gnb = GaussianNB()\n",
    "\n",
    "#Train the model using the training sets\n",
    "gnb.fit(X_train, y_train)\n",
    "\n",
    "#Predict the response for test dataset\n",
    "y_pred = gnb.predict(X_test)\n",
    "\n",
    "\n",
    "# predict, Perform classification on an array of test vectors X.\n",
    "y_pred_class = gnb.predict(X_test)\n",
    "# predict probabilities, Return probability estimates for the test vector X.\n",
    "y_pred_proba = gnb.predict_proba(X_test)\n",
    "\n",
    "# b) confusion matrix\n",
    "from sklearn import metrics\n",
    "confusion = metrics.confusion_matrix(y_test, y_pred_class)\n",
    "print(\"(b) the confusion matrix: \", file=f)\n",
    "print(confusion, file=f)"
   ]
  },
  {
   "cell_type": "code",
   "execution_count": 24,
   "metadata": {},
   "outputs": [],
   "source": [
    "\n",
    "# c) the precision, recall and F1-measure for each class\n",
    "print(\"(c) the precision, recall and F1-measure for each class of the test set : \", file=f)\n",
    "print(metrics.classification_report(y_test, y_pred_class),file=f)\n",
    "\n",
    "\n",
    "\n",
    "# d) the accuracy, macro-average F1 and weighted-average F1 of the model\n",
    "\n",
    "accuracy = metrics.accuracy_score(y_test, y_pred_class)\n",
    "print(\"(d) the accuracy, macro-average F1 and weighted-average F1 of the model: \", file=f)\n",
    "print(\"Accuracy score of the test set is : \" + str(accuracy), file=f)\n",
    "\n",
    "macro_avg_F1 = metrics.f1_score(y_test, y_pred_class, average='macro')\n",
    "print(\"Macro average F1 of the test set is : \" + str(macro_avg_F1), file=f)\n",
    "weighted_avg_F1 = metrics.f1_score(y_test, y_pred_class, average='weighted')\n",
    "print(\"Weighted average F1 of the test set is : \" + str(weighted_avg_F1), file=f)"
   ]
  },
  {
   "cell_type": "markdown",
   "metadata": {},
   "source": [
    "#Base-DT classifier"
   ]
  },
  {
   "cell_type": "code",
   "execution_count": 25,
   "metadata": {},
   "outputs": [],
   "source": [
    "\n",
    "# Decision Tree\n",
    "print(\"--------------------------------Decision Tree default values-----------------------------------\", file=f)\n",
    "from sklearn.tree import DecisionTreeClassifier # Import Decision Tree Classifier\n",
    "#Create a Gaussian Classifier\n",
    "mod2 = DecisionTreeClassifier()\n",
    "\n",
    "#Train the model using the training sets\n",
    "mod2.fit(X_train, y_train)\n",
    "\n",
    "#Predict the response for test dataset\n",
    "y_pred = mod2.predict(X_test)\n",
    "\n",
    "\n",
    "# predict, Perform classification on an array of test vectors X.\n",
    "y_pred_class = mod2.predict(X_test)\n",
    "# predict probabilities, Return probability estimates for the test vector X.\n",
    "y_pred_proba = mod2.predict_proba(X_test)\n",
    "\n",
    "# b) confusion matrix\n",
    "from sklearn import metrics\n",
    "confusion = metrics.confusion_matrix(y_test, y_pred_class)\n",
    "print(\"(b) the confusion matrix: \", file=f)\n",
    "print(confusion, file=f)\n"
   ]
  },
  {
   "cell_type": "code",
   "execution_count": 26,
   "metadata": {},
   "outputs": [],
   "source": [
    "\n",
    "# c) the precision, recall and F1-measure for each class\n",
    "print(\"(c) the precision, recall and F1-measure for each class of the test set : \", file=f)\n",
    "print(metrics.classification_report(y_test, y_pred_class),file=f)\n",
    "\n",
    "\n",
    "# d) the accuracy, macro-average F1 and weighted-average F1 of the model\n",
    "\n",
    "accuracy = metrics.accuracy_score(y_test, y_pred_class)\n",
    "print(\"(d) the accuracy, macro-average F1 and weighted-average F1 of the model: \", file=f)\n",
    "print(\"Accuracy score of the test set is : \" + str(accuracy), file=f)\n",
    "\n",
    "macro_avg_F1 = metrics.f1_score(y_test, y_pred_class, average='macro')\n",
    "print(\"Macro average F1 of the test set is : \" + str(macro_avg_F1), file=f)\n",
    "weighted_avg_F1 = metrics.f1_score(y_test, y_pred_class, average='weighted')\n",
    "print(\"Weighted average F1 of the test set is : \" + str(weighted_avg_F1), file=f)"
   ]
  },
  {
   "cell_type": "code",
   "execution_count": null,
   "metadata": {},
   "outputs": [],
   "source": []
  }
 ],
 "metadata": {
  "kernelspec": {
   "display_name": "Python 3",
   "language": "python",
   "name": "python3"
  },
  "language_info": {
   "codemirror_mode": {
    "name": "ipython",
    "version": 3
   },
   "file_extension": ".py",
   "mimetype": "text/x-python",
   "name": "python",
   "nbconvert_exporter": "python",
   "pygments_lexer": "ipython3",
   "version": "3.7.6"
  }
 },
 "nbformat": 4,
 "nbformat_minor": 4
}
